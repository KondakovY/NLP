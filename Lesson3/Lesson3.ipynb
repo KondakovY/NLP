{
 "cells": [
  {
   "cell_type": "markdown",
   "metadata": {
    "id": "CDUmDnzVxCDq"
   },
   "source": [
    "### Домашнее задание:"
   ]
  },
  {
   "cell_type": "markdown",
   "metadata": {
    "id": "bejCs64Zw5Jb"
   },
   "source": [
    "Задача: Поиск похожих по эмбеддингам."
   ]
  },
  {
   "cell_type": "markdown",
   "metadata": {
    "id": "UOhGuiy7xR63"
   },
   "source": [
    "1.На основе word2vec/fasttext реализовать метод поиска ближайших статей (на вход метода должен приходить запрос (какой-то вопрос) и количество вариантов вывода к примеру 5-ть, ваш метод должен возвращать 5-ть ближайших статей к этому запросу).\n",
    "\n",
    "2.Проверить насколько хорошо работают подходы."
   ]
  },
  {
   "cell_type": "code",
   "execution_count": null,
   "metadata": {},
   "outputs": [],
   "source": [
    "import json\n",
    "import string\n",
    "!pip install pymorphy2\n",
    "from pymorphy2 import MorphAnalyzer\n",
    "!pip install stop_words\n",
    "from stop_words import get_stop_words\n",
    "!pip install annoy\n",
    "import annoy\n",
    "from gensim.models import Word2Vec, FastText\n",
    "import pickle\n",
    "import numpy as np\n",
    "from tqdm import tqdm_notebook\n",
    "import warnings\n",
    "warnings.filterwarnings(\"ignore\")\n",
    "import matplotlib.pyplot as plt\n",
    "%matplotlib inline"
   ]
  },
  {
   "cell_type": "code",
   "execution_count": 16,
   "metadata": {
    "id": "RbI828ypeZMi"
   },
   "outputs": [],
   "source": [
    "def get_datasets(path):\n",
    "  data = []\n",
    "  with open(path, 'r') as r:\n",
    "      for line in r:\n",
    "          data.append(json.loads(line))\n",
    "  data.sort(key=lambda x: x['date'])\n",
    "  return data\n",
    "\n",
    "\n",
    "def get_text(data):\n",
    "  return [data['title'], data['text']]\n",
    "\n",
    "\n",
    "def get_tokens(data, stop_words=None, morph_analyzer=None):\n",
    "\n",
    "  text = ''.join(i for i in data.strip() if i not in punct).split()  \n",
    "  tokens = [tkn.lower() for tkn in text if tkn not in stop_words]\n",
    "  tokens = [morpher.parse(tkn)[0].normal_form for tkn in tokens if len(tkn) > 1]\n",
    "  return tokens\n",
    "\n",
    "\n",
    "def get_response(text, index, model, index_map):\n",
    "    text = get_tokens(text)\n",
    "    vector = np.zeros(300)\n",
    "    norm = 0\n",
    "    for word in text:\n",
    "        if word in model.wv:\n",
    "            vector += model.wv[word]\n",
    "            norm += 1\n",
    "    if norm > 0:\n",
    "        vector = vector / norm\n",
    "    titles = index.get_nns_by_vector(vector, 5, )\n",
    "    return [index_map[i] for i in titles]\n",
    "\n",
    "\n",
    "def read_article(article_name):\n",
    "  for item in range(len(x_train)):\n",
    "    if x_train[item]['title'] == article_name:\n",
    "      return x_train[item]['text']"
   ]
  },
  {
   "cell_type": "code",
   "execution_count": null,
   "metadata": {},
   "outputs": [],
   "source": [
    "!wget https://www.dropbox.com/s/lb50mk5jujjjqbi/gazeta_jsonl_v2.tar.gz\n",
    "!tar -xvzf gazeta_jsonl_v2.tar.gz"
   ]
  },
  {
   "cell_type": "code",
   "execution_count": 5,
   "metadata": {
    "colab": {
     "base_uri": "https://localhost:8080/"
    },
    "id": "7Du6AA2x9gWm",
    "outputId": "eb21394c-19e5-404b-b0c4-02cecbfdabc0"
   },
   "outputs": [
    {
     "name": "stdout",
     "output_type": "stream",
     "text": [
      "Train length: 60964\n"
     ]
    }
   ],
   "source": [
    "train_path = 'gazeta_train.jsonl'\n",
    "x_train = get_datasets(train_path)\n",
    "\n",
    "print(f'Train length: {len(x_train)}')\n"
   ]
  },
  {
   "cell_type": "code",
   "execution_count": 6,
   "metadata": {
    "colab": {
     "base_uri": "https://localhost:8080/"
    },
    "id": "PnOeyeGy98s-",
    "outputId": "85e60381-128d-40a2-bcc1-bf803ef1885e"
   },
   "outputs": [
    {
     "data": {
      "text/plain": [
       "{'date': '2010-06-01 10:42:59',\n",
       " 'url': 'https://www.gazeta.ru/culture/2010/06/01/a_3378006.shtml',\n",
       " 'summary': 'Британские затворники, московские модники, бразильский фанк и исламский панк, а также Мик Джаггер, группа Blur и фестивальные хроники, снятые на мобильник, – в Москве стартует Beat Film Festival.',\n",
       " 'title': 'Секс, наркотики и темный зал',\n",
       " 'text': \"Словосочетание «музыкальный кинофестиваль» уже не звучит непривычным оксюмороном — в наше бедное на гениев время разобраться в современной музыке порой проще с помощью наблюдения за участниками процесса. Так уже было, к примеру, с сандэнсовским фильмом «DiG!», влюбившим зрителей по всему миру в портлендского безумца Антона Ньюкомба и его группу Brian Jonestown Massacre. В столице картину показали год назад. Это был совсем камерный клубный показ в рамках фестиваля Music.doc, почти без рекламы, но о тех двух часах не пожалел никто из пары десятков случайных и не очень посетителей. То же можно сказать и о прочих показах. Стартующий в этот четверг Beat Film Festival – прямой наследник Music.doc. На этот раз к услугам киномеломанов самая авторитетная арт-хаусная площадка города, а не тесный клуб или помпезный «Иллюзион», а вместо собранной по сусекам программы – фильмы с не более чем двухлетним сроком давности. Картины «Bassweight» и «Favellla on Blast» рассказывают (соответственно) о все еще свежих дабстепе и балеарике – направлениях, с которыми сейчас принято связывать будущее электронной (и не только) музыки. Произведения львиной доли адептов этих стилей вне удолбанного танцпола или хотя бы прокуренного клуба приводят к внезапным вспышкам головной боли, однако породившая их среда, безусловно, заслуживает внимательно взгляда. Почему дабстеп появился в Лондоне, а балеарик – в бразильских фавеллах? Почему герои дабстепа прячут лица, а M.I.A., напротив, носит яркие лосины? Ну и главный вопрос – как секс, наркотики, густой смог и вечное похмелье конденсируют в музыку? О субкультуре другого порядка рассказывает картина «Taqwacore: The Birth of Punk Islam». Вынесенное в заглавие слово придумал писатель Майкл Мухаммед Найт для своего романа о нью-йоркских панках-мусульманах The Taqwacores. Выдуманный стиль дал толчок исламскому панку, стремительное развитие которого и стало причиной появления первого посвященного этому явлению фильма. Главным героем картины, как можно догадаться, стал сам писатель. Наш личный фаворит программы. Мостом между мейнстримовой и андеграундной культурами служит летопись двух фестивалей – московского «Пикника «Афиши»» и лондонского All Tomorrow's Parties. Если про первый все и так известно, история второго для многих станет открытием. Один из важнейших британских фестивалей славится не только своей демократичностью, но и тем, что его кураторами ежегодно становятся главные герои мировой альтернативной сцены – от Ника Кейва до Portishead. У посетителей Beat Film Festival есть шанс почувствовать всю прелесть этого предприятия – часть фильма смонтирована из любительской «мобилографии». Ну и, наконец, не обойдется и без знакомых широкой публике имен. Самой близкой россиянам картиной должна стать «Posters Came From The Walls» — рассказ о фанатах Depeche Mode по всему миру, не обошедший вниманием и некогда многочисленное российское фанатское коммьюнити. Другим потенциальным хитом программы может стать «No Distance Left To Run» — новейший извод истории группы Blur от рождения до последнего концерта в Гластонберри годичной давности. Впрочем, поговаривают, что и он был не последним, но это уже совсем другая история. Ну а откроется фестиваль в четверг фильмом «Stones in Exile», который в представлениях для сведущей публики, в общем, не нуждается. Это хроника года, проведенного группой The Rolling Stones в Париже во время записи недавно переизданного альбома «Exile On Main Street» — одной из лучших и точно самой безумной записи великих британцев. Иными словами, документальное свидетельство тех времен, когда изобретатель формулы «Секс, наркотики и рок-н-ролл» Мик Джаггер и его одногруппники в полной мере убеждали в действенности изобретенной идеологии. И прежде чем спрашивать, где же тут актуальность, стоит полюбопытствовать, что в их жизни изменилось с тех пор. The Beat Film Festival пройдет в кинотеатре 35 мм с 3 по 8 июня.\"}"
      ]
     },
     "execution_count": 6,
     "metadata": {},
     "output_type": "execute_result"
    }
   ],
   "source": [
    "x_train[1]"
   ]
  },
  {
   "cell_type": "code",
   "execution_count": 7,
   "metadata": {
    "colab": {
     "base_uri": "https://localhost:8080/",
     "height": 87
    },
    "id": "fE7uuD_MlTCa",
    "outputId": "4182ed58-8f08-4074-dc78-de46fcede428"
   },
   "outputs": [
    {
     "data": {
      "application/vnd.google.colaboratory.intrinsic+json": {
       "type": "string"
      },
      "text/plain": [
       "\"Словосочетание «музыкальный кинофестиваль» уже не звучит непривычным оксюмороном — в наше бедное на гениев время разобраться в современной музыке порой проще с помощью наблюдения за участниками процесса. Так уже было, к примеру, с сандэнсовским фильмом «DiG!», влюбившим зрителей по всему миру в портлендского безумца Антона Ньюкомба и его группу Brian Jonestown Massacre. В столице картину показали год назад. Это был совсем камерный клубный показ в рамках фестиваля Music.doc, почти без рекламы, но о тех двух часах не пожалел никто из пары десятков случайных и не очень посетителей. То же можно сказать и о прочих показах. Стартующий в этот четверг Beat Film Festival – прямой наследник Music.doc. На этот раз к услугам киномеломанов самая авторитетная арт-хаусная площадка города, а не тесный клуб или помпезный «Иллюзион», а вместо собранной по сусекам программы – фильмы с не более чем двухлетним сроком давности. Картины «Bassweight» и «Favellla on Blast» рассказывают (соответственно) о все еще свежих дабстепе и балеарике – направлениях, с которыми сейчас принято связывать будущее электронной (и не только) музыки. Произведения львиной доли адептов этих стилей вне удолбанного танцпола или хотя бы прокуренного клуба приводят к внезапным вспышкам головной боли, однако породившая их среда, безусловно, заслуживает внимательно взгляда. Почему дабстеп появился в Лондоне, а балеарик – в бразильских фавеллах? Почему герои дабстепа прячут лица, а M.I.A., напротив, носит яркие лосины? Ну и главный вопрос – как секс, наркотики, густой смог и вечное похмелье конденсируют в музыку? О субкультуре другого порядка рассказывает картина «Taqwacore: The Birth of Punk Islam». Вынесенное в заглавие слово придумал писатель Майкл Мухаммед Найт для своего романа о нью-йоркских панках-мусульманах The Taqwacores. Выдуманный стиль дал толчок исламскому панку, стремительное развитие которого и стало причиной появления первого посвященного этому явлению фильма. Главным героем картины, как можно догадаться, стал сам писатель. Наш личный фаворит программы. Мостом между мейнстримовой и андеграундной культурами служит летопись двух фестивалей – московского «Пикника «Афиши»» и лондонского All Tomorrow's Parties. Если про первый все и так известно, история второго для многих станет открытием. Один из важнейших британских фестивалей славится не только своей демократичностью, но и тем, что его кураторами ежегодно становятся главные герои мировой альтернативной сцены – от Ника Кейва до Portishead. У посетителей Beat Film Festival есть шанс почувствовать всю прелесть этого предприятия – часть фильма смонтирована из любительской «мобилографии». Ну и, наконец, не обойдется и без знакомых широкой публике имен. Самой близкой россиянам картиной должна стать «Posters Came From The Walls» — рассказ о фанатах Depeche Mode по всему миру, не обошедший вниманием и некогда многочисленное российское фанатское коммьюнити. Другим потенциальным хитом программы может стать «No Distance Left To Run» — новейший извод истории группы Blur от рождения до последнего концерта в Гластонберри годичной давности. Впрочем, поговаривают, что и он был не последним, но это уже совсем другая история. Ну а откроется фестиваль в четверг фильмом «Stones in Exile», который в представлениях для сведущей публики, в общем, не нуждается. Это хроника года, проведенного группой The Rolling Stones в Париже во время записи недавно переизданного альбома «Exile On Main Street» — одной из лучших и точно самой безумной записи великих британцев. Иными словами, документальное свидетельство тех времен, когда изобретатель формулы «Секс, наркотики и рок-н-ролл» Мик Джаггер и его одногруппники в полной мере убеждали в действенности изобретенной идеологии. И прежде чем спрашивать, где же тут актуальность, стоит полюбопытствовать, что в их жизни изменилось с тех пор. The Beat Film Festival пройдет в кинотеатре 35 мм с 3 по 8 июня.\""
      ]
     },
     "execution_count": 7,
     "metadata": {},
     "output_type": "execute_result"
    }
   ],
   "source": [
    "x_train[1]['text']"
   ]
  },
  {
   "cell_type": "code",
   "execution_count": 10,
   "metadata": {
    "colab": {
     "base_uri": "https://localhost:8080/",
     "height": 49,
     "referenced_widgets": [
      "693b405af2a449ae9b9e7064f7251663",
      "da479568586d471b8d237fd7d6df3380",
      "5b4cc1b719134be188a58f5eee5d8282",
      "beb60eebb4d6439b9ac9b30c6245fcde",
      "f4e02645be344b1b9498ea0f9da034f2",
      "8dd4bfb6e0084191b51ee86694f6bdb4",
      "ec334704b0414375897f5b8f9fa5270c",
      "37d00023c8ed4da6a7879021847ec7e5",
      "9b11e6910fe54aa19ecaa526e4ce086d",
      "4406158e4fed4bc9ac13781c0ea9394b",
      "d93e5556dce9415482dc48505783d28e"
     ]
    },
    "id": "rqRDMduXthBd",
    "outputId": "70e8e4b8-a01f-4236-b126-fa7b37294125"
   },
   "outputs": [
    {
     "data": {
      "application/vnd.jupyter.widget-view+json": {
       "model_id": "693b405af2a449ae9b9e7064f7251663",
       "version_major": 2,
       "version_minor": 0
      },
      "text/plain": [
       "  0%|          | 0/60964 [00:00<?, ?it/s]"
      ]
     },
     "metadata": {},
     "output_type": "display_data"
    }
   ],
   "source": [
    "articles = []\n",
    "for line in tqdm_notebook(x_train):\n",
    "  articles.append(get_text(line))\n",
    "  if len(articles) > 10000: \n",
    "    break"
   ]
  },
  {
   "cell_type": "code",
   "execution_count": 12,
   "metadata": {
    "colab": {
     "base_uri": "https://localhost:8080/"
    },
    "id": "5sCG0RajlzOK",
    "outputId": "3931c9e4-6ab9-401d-a9db-a2ada70e77a9"
   },
   "outputs": [
    {
     "data": {
      "text/plain": [
       "['Налог в бак',\n",
       " 'Сегодня транспортный налог начисляется в зависимости от мощности автомобиля, причем цена для «сильных» машин выше, чем для малолитражек. Также ставку налога могут корректировать региональные власти: согласно Налоговому кодексу, базовый тариф, установленный правительством, может быть уменьшен в пять раз или увеличен до 10 раз. Сборы идут в региональные бюджеты, откуда растекаются на общие нужды. Транспортный налог — один из основных источников бюджетных доходов — предлагается направить исключительно на дорожные фонды. Так, автомобилисты будут понимать, за что они платят, а дорожники будут иметь гарантированный доход. Кроме налога дорожные фонды будут пополняться за счет бюджетных средств и проезда по платным дорогам. Более того, транспортный налог предлагается завуалировать в акцизы на бензин. Привычную и раздражающую систему ежегодной оплаты квитанции предлагается изменить, включив налог в стоимость топлива. Минэкономразвития говорит об удвоении акцизы, которая сегодня составляет 3,32 рубля за литр 92-го и 95-го бензина. Теперь платить будет не тот, кто купил машину мощнее, а тот, кто больше ездит. Владельцам многосильных автомобилей, которые сегодня отдают в год по 45–50 тысяч за машину, нововведение явно выгодно. Также выигрывают хозяева нескольких автомобилей, которые используются поочередно. Если в семье две-три машины, которые много стоят в гараже и не эксплуатируются, сейчас приходится платить за все. По новой схеме сбор будет значительно меньше. Но владельцы экономичных машин будут выкладывать гораздо больше при равном пробеге. Если цена бензина вырастет на 3,32 рубля, то владелец вазовской «девятки», потребляющей на 100 км в городе около 10 литров, заплатит в год 10162 рубля при среднем пробеге 30 тыс. км вместо 550 руб. по квитанции, а за Citroen C3 мощностью 73 л. с. и расходом 8,5 л на «сотню» придется в год выложить около 8,5 тысяч рублей. Сейчас – 511 руб. Хорошо укомплектованный Ford Focus cо 145-сильным мотором за 30 тыс. км. обойдется в 11155 «налоговых» рублей – на 6800 рублей дороже, чем при существующей ставке налогообложения, а вот налог на пожилой Mercedes-Benz S420 в кузове W140 при новой системе снизится почти вдвое. Сейчас владелец платит в год за 279 л. с. мотора около 41850 рублей. При среднем пробеге в 30 тыс. км в год и расходе топлива порядка 20 л на 100 км он истратит всего 6000 литров бензина и заплатит в казну вдвое меньше – 19920 рублей. С точки зрения власти решение отмены транспортного налога понятное и верное. В первую очередь, собираемость налога тут же возрастет до 100%, потому что новая система исключает возможность уклониться от уплаты. Кроме того, налоговая инспекция сэкономит бюджетные средства на доставке квитанций и судебных издержках при выколачивании средств с неплательщиков. Автоматически решается вопрос с бюрократической неразберихой после продажи машины или утилизации, когда налоговые органы присылают квитанцию на давно проданную машину. Но главное, что при новой схеме сборы значительно возрастут. Власти рассчитывают собирать до 62 млрд рублей в год. Экономисты уже предвидят тотальное повышение цен из-за роста стоимости перевозок. Ведь за бензин придется переплачивать и логистическим компаниям, которые включат дополнительные расходы в цену товара. Получается, что теперь за дороги будут платить не только автомобилисты, но и те, кто за рулем никогда не сидел. Но даже с учетом всех оговорок отмена транспортного налога — это важный и сильный политический шаг, который поможет снять напряжение в регионах. Дело в том, что скрытое налогообложение делает поборы незаметными и не травмирующими. Ведь власти и сейчас любят педалировать тем, что в стране самый низкий в Европе подоходный налог 13%. При этом они не афишируют другие отчисления в бюджет, которые снимаются с граждан с теми же акцизами и НДС. Есть также сомнения, что власти смогут обеспечить прозрачность расходования средств. Дорожные фонды в России уже существовали и были расформированы в 2000 году за коррупционность. Как предполагается распределять деньги между регионами и федеральным дорожным агентством и кто будет следить за потоками, в правительстве пока не решили.']"
      ]
     },
     "execution_count": 12,
     "metadata": {},
     "output_type": "execute_result"
    }
   ],
   "source": [
    "articles[0]"
   ]
  },
  {
   "cell_type": "code",
   "execution_count": 13,
   "metadata": {
    "id": "AcuxIFfpvyyi"
   },
   "outputs": [],
   "source": [
    "morpher = MorphAnalyzer()\n",
    "stop_words = get_stop_words('ru')\n",
    "punct = list(string.punctuation + '—' + '–')"
   ]
  },
  {
   "cell_type": "code",
   "execution_count": 15,
   "metadata": {
    "colab": {
     "base_uri": "https://localhost:8080/",
     "height": 49,
     "referenced_widgets": [
      "34502b3508004427893c734e56d1928a",
      "e80b7b33c7ad4bd29081379f95272498",
      "01e290c18bf443319098cdea89527b31",
      "d06a936a6d65495dbca75a3b6830e913",
      "4d2e923b50684efb93126264a4f78646",
      "0e7cfb6c1a7b456bbfdf1e243bd953da",
      "fddb4b78389c4cbd98d5e38666fd4fc3",
      "08716903ed3c4b92a8ba87426389d6a4",
      "c70d4f0097204649a35c29ee9a5b9b07",
      "7f070ccefa1446338cee549364f78b6d",
      "8ca38856fb854b47869a857d0df60a0b"
     ]
    },
    "id": "qlqr_cSgu1_J",
    "outputId": "9ff0cd0f-465d-4ddc-8e34-dd32243d45a3"
   },
   "outputs": [
    {
     "data": {
      "application/vnd.jupyter.widget-view+json": {
       "model_id": "34502b3508004427893c734e56d1928a",
       "version_major": 2,
       "version_minor": 0
      },
      "text/plain": [
       "  0%|          | 0/10001 [00:00<?, ?it/s]"
      ]
     },
     "metadata": {},
     "output_type": "display_data"
    }
   ],
   "source": [
    "tokens = []\n",
    "for artcl in tqdm_notebook(articles):\n",
    "  temp = []\n",
    "  for item in artcl:    \n",
    "    temp += get_tokens(item, stop_words, morpher)\n",
    "  tokens.append(temp) \n",
    "  # if len(articles) > 2:\n",
    "  #   break"
   ]
  },
  {
   "cell_type": "code",
   "execution_count": 18,
   "metadata": {
    "colab": {
     "base_uri": "https://localhost:8080/"
    },
    "id": "UIy9hXNUskD8",
    "outputId": "ea8a0ec8-8348-4817-9901-d14f505c683b"
   },
   "outputs": [
    {
     "data": {
      "text/plain": [
       "['renaultnissan',\n",
       " 'корейский',\n",
       " 'кухня',\n",
       " 'альянс',\n",
       " 'renault',\n",
       " 'nissan',\n",
       " 'официально',\n",
       " 'подтвердить',\n",
       " 'заинтересованность',\n",
       " 'приобретение']"
      ]
     },
     "execution_count": 18,
     "metadata": {},
     "output_type": "execute_result"
    }
   ],
   "source": [
    "tokens[140][:10]"
   ]
  },
  {
   "cell_type": "code",
   "execution_count": 19,
   "metadata": {
    "id": "0znIB47NlTJ0"
   },
   "outputs": [],
   "source": [
    "modelW2V = Word2Vec(sentences=tokens, size=300, min_count=1, window=5)\n",
    "modelFT = FastText(sentences=tokens, size=300, min_count=1, window=5)"
   ]
  },
  {
   "cell_type": "code",
   "execution_count": 23,
   "metadata": {
    "colab": {
     "base_uri": "https://localhost:8080/"
    },
    "id": "5hkTdJtV7KwR",
    "outputId": "857149c9-b830-4191-d4b4-66a3ede010dd"
   },
   "outputs": [
    {
     "name": "stdout",
     "output_type": "stream",
     "text": [
      "False\n",
      "True\n"
     ]
    }
   ],
   "source": [
    "print('музычка' in modelW2V.wv)\n",
    "print('музычка' in modelFT.wv)"
   ]
  },
  {
   "cell_type": "code",
   "execution_count": null,
   "metadata": {
    "colab": {
     "base_uri": "https://localhost:8080/",
     "height": 66,
     "referenced_widgets": [
      "e47184fa508b4f938e54e3243db60598",
      "78cc25fd96714150bad80a37492f2ed9",
      "f5e7fe78ecdd4f99aecdcbc3352bac92",
      "954393e1403b4d00bb60c8608dac397a",
      "328f36c9dcec4802a7f916199a18c5ab",
      "c839fd372ebe48848694392d69dd49aa",
      "1dbce5c9a0a949d7b47309d7bd74ae1e",
      "5c0fb6c686ae4f7ca734f1d9c178e7af",
      "911b6973961b4ed19779012acdcdca65",
      "292f08bf441a4b7d9ed29ae773be1ecc",
      "b62ad199bcf049fea311d72472477c91"
     ]
    },
    "id": "x-0XeFqb6QHh",
    "outputId": "30c95148-dff2-4f39-ab67-ae5590189dd2"
   },
   "outputs": [
    {
     "data": {
      "application/vnd.jupyter.widget-view+json": {
       "model_id": "e47184fa508b4f938e54e3243db60598",
       "version_major": 2,
       "version_minor": 0
      },
      "text/plain": [
       "  0%|          | 0/10001 [00:00<?, ?it/s]"
      ]
     },
     "metadata": {},
     "output_type": "display_data"
    },
    {
     "data": {
      "text/plain": [
       "True"
      ]
     },
     "execution_count": 286,
     "metadata": {},
     "output_type": "execute_result"
    }
   ],
   "source": [
    "w2v_index = annoy.AnnoyIndex(300 ,'angular')\n",
    "ft_index = annoy.AnnoyIndex(300 ,'angular')\n",
    "index_map = {}\n",
    "counter = 0\n",
    "\n",
    "for line in tqdm_notebook(articles):\n",
    "        n_w2v = 0\n",
    "        n_ft = 0  \n",
    "\n",
    "        index_map[counter] = line[0]    \n",
    "\n",
    "        article_body = get_tokens(line[1])\n",
    "        \n",
    "        vector_w2v = np.zeros(300)\n",
    "        vector_ft = np.zeros(300)        \n",
    "\n",
    "        for word in article_body:\n",
    "            if word in modelW2V.wv:\n",
    "                vector_w2v += modelW2V.wv[word]                \n",
    "                n_w2v += 1  \n",
    "            if word in modelFT.wv:\n",
    "                vector_ft += modelFT.wv[word]\n",
    "                n_ft += 1\n",
    "        \n",
    "        if n_w2v > 0:\n",
    "            vector_w2v = vector_w2v / n_w2v\n",
    "        if n_ft > 0:\n",
    "            vector_ft = vector_ft / n_ft\n",
    "\n",
    "        w2v_index.add_item(counter, vector_w2v)\n",
    "        ft_index.add_item(counter, vector_ft)\n",
    "            \n",
    "        counter += 1\n",
    "        \n",
    "        if counter > 10000:\n",
    "            break\n",
    "\n",
    "w2v_index.build(10)\n",
    "ft_index.build(10)"
   ]
  },
  {
   "cell_type": "markdown",
   "metadata": {
    "id": "ccN2ybs_kSyg"
   },
   "source": [
    "### Проверка корректности результатов:"
   ]
  },
  {
   "cell_type": "code",
   "execution_count": null,
   "metadata": {
    "colab": {
     "base_uri": "https://localhost:8080/"
    },
    "id": "6pA5-UZr985M",
    "outputId": "3a818651-770b-4b4b-dff9-d390af1b199c"
   },
   "outputs": [
    {
     "name": "stdout",
     "output_type": "stream",
     "text": [
      "['Светофоры поумнеют', 'Мэрия подавляет коллапс интеллектом ', 'Шереметьево поедет через область', 'Пробка подходит к развязке', 'Москва расколется по линии моста']\n",
      "['Москва для пешеходов', 'Светофоры поумнеют', 'Фуры увязли в весне', 'Государство привьет транспорту интеллект', 'Иркутск не дотянул до нового аэропорта']\n"
     ]
    }
   ],
   "source": [
    "TEXT = 'транспорт'\n",
    "print(get_response(TEXT, w2v_index, modelW2V, index_map))\n",
    "print(get_response(TEXT, ft_index, modelFT, index_map))"
   ]
  },
  {
   "cell_type": "markdown",
   "metadata": {},
   "source": [
    "Вывод:\n",
    "- Word2Vec: тематика статей корректна по отношению к запросу;\n",
    "- FastText: тематика статей корректна по отношению к запросу."
   ]
  },
  {
   "cell_type": "code",
   "execution_count": null,
   "metadata": {
    "colab": {
     "base_uri": "https://localhost:8080/"
    },
    "id": "E2hmcR-L988I",
    "outputId": "10bafd9d-6ee5-456d-f123-115ebf901748"
   },
   "outputs": [
    {
     "name": "stdout",
     "output_type": "stream",
     "text": [
      "['Не как народ', 'Чиновников больше, зарплаты выше', 'Обама-писатель богаче Обамы-президента', 'Бюджет не справился с нулем', '«Для других аппетитов средств нет»']\n",
      "['ОСАГО перевалило за кризис', 'Авиапассажиры пополнят казну Германии', 'Частичное экономическое затмение', 'Власть увлеклась кризисом', 'Авиапассажиры пополнят казну Германии']\n"
     ]
    }
   ],
   "source": [
    "TEXT = 'налоговый сбор'\n",
    "print(get_response(TEXT, w2v_index, modelW2V, index_map))\n",
    "print(get_response(TEXT, ft_index, modelFT, index_map))"
   ]
  },
  {
   "cell_type": "markdown",
   "metadata": {},
   "source": [
    "Вывод:\n",
    "- Word2Vec: тематика статей корректна по отношению к запросу;\n",
    "- FastText: тематика статей не совсем корректна по отношению к запросу (одна статья повторяется 2 раза)."
   ]
  },
  {
   "cell_type": "code",
   "execution_count": null,
   "metadata": {
    "colab": {
     "base_uri": "https://localhost:8080/"
    },
    "id": "fv6dcy9o-Rd-",
    "outputId": "2dc84707-e5a3-4d99-bafc-6b5094c3706f"
   },
   "outputs": [
    {
     "name": "stdout",
     "output_type": "stream",
     "text": [
      "['Так делать дороги нельзя ни в коем случае', 'Porsche в зоне рулежки', 'Застывшее движение', 'Мал золотник, да дорог', 'Стамбул колоссальный']\n",
      "['Manfrotto STILE — функциональность в итальянском стиле', 'Объем важен не только для прически', 'Нам нужны гаражи, а им – только наши деньги', 'Мал золотник, да дорог', 'Книги в интернете: скачать, прочесть, купить']\n"
     ]
    }
   ],
   "source": [
    "TEXT = 'искусственный интеллект'\n",
    "print(get_response(TEXT, w2v_index, modelW2V, index_map))\n",
    "print(get_response(TEXT, ft_index, modelFT, index_map))"
   ]
  },
  {
   "cell_type": "markdown",
   "metadata": {},
   "source": [
    "Вывод:\n",
    "- Word2Vec: тематика статей некорректна по отношению к запросу;\n",
    "- FastText: тематика статей некорректна по отношению к запросу."
   ]
  },
  {
   "cell_type": "code",
   "execution_count": null,
   "metadata": {
    "colab": {
     "base_uri": "https://localhost:8080/"
    },
    "id": "DTCRWJr_C2jo",
    "outputId": "74545bca-a609-4e6e-eb36-18dc7aed7303"
   },
   "outputs": [
    {
     "name": "stdout",
     "output_type": "stream",
     "text": [
      "['«Думаю, в Катаре будет спокойно»', '«Мы бежим впереди паровоза»', '«Спаллетти может тренировать сборную»', '«Овечкин расколол НХЛ»', '«Любите своих футболистов»']\n",
      "['«Селтик» без Макгиди', 'Невилл ушел на пенсию', 'Пареха вместе с Месси', 'Давидс вернулся в большой футбол', 'Жирков ждет Акинфеева']\n"
     ]
    }
   ],
   "source": [
    "TEXT = 'про футбол'\n",
    "print(get_response(TEXT, w2v_index, modelW2V, index_map))\n",
    "print(get_response(TEXT, ft_index, modelFT, index_map))"
   ]
  },
  {
   "cell_type": "markdown",
   "metadata": {},
   "source": [
    "Вывод:\n",
    "- Word2Vec: тематика статей корректна по отношению к запросу;\n",
    "- FastText: тематика статей корректна по отношению к запросу."
   ]
  },
  {
   "cell_type": "markdown",
   "metadata": {
    "id": "Inng_0M0nQLB"
   },
   "source": [
    "### ВЫВОД:\n",
    "\n",
    "В данном случае более корректно справился Word2Vec (тематики статей боллее ближе соответсвовали запросу).\n",
    "\n",
    "Для повышения точности можно попробовать скорректировать ряд параметров:\n",
    "- Увеличить кол-во статей;\n",
    "- Кол-во центроид;\n",
    "- Длину вектора эмбеддинга."
   ]
  },
  {
   "cell_type": "code",
   "execution_count": null,
   "metadata": {},
   "outputs": [],
   "source": []
  }
 ],
 "metadata": {
  "colab": {
   "collapsed_sections": [],
   "name": "HW_Lesson_3_Embedding.ipynb",
   "provenance": []
  },
  "kernelspec": {
   "display_name": "Python 3 (ipykernel)",
   "language": "python",
   "name": "python3"
  },
  "language_info": {
   "codemirror_mode": {
    "name": "ipython",
    "version": 3
   },
   "file_extension": ".py",
   "mimetype": "text/x-python",
   "name": "python",
   "nbconvert_exporter": "python",
   "pygments_lexer": "ipython3",
   "version": "3.9.7"
  },
  "widgets": {
   "application/vnd.jupyter.widget-state+json": {
    "01e290c18bf443319098cdea89527b31": {
     "model_module": "@jupyter-widgets/controls",
     "model_module_version": "1.5.0",
     "model_name": "FloatProgressModel",
     "state": {
      "_dom_classes": [],
      "_model_module": "@jupyter-widgets/controls",
      "_model_module_version": "1.5.0",
      "_model_name": "FloatProgressModel",
      "_view_count": null,
      "_view_module": "@jupyter-widgets/controls",
      "_view_module_version": "1.5.0",
      "_view_name": "ProgressView",
      "bar_style": "success",
      "description": "",
      "description_tooltip": null,
      "layout": "IPY_MODEL_08716903ed3c4b92a8ba87426389d6a4",
      "max": 10001,
      "min": 0,
      "orientation": "horizontal",
      "style": "IPY_MODEL_c70d4f0097204649a35c29ee9a5b9b07",
      "value": 10001
     }
    },
    "08716903ed3c4b92a8ba87426389d6a4": {
     "model_module": "@jupyter-widgets/base",
     "model_module_version": "1.2.0",
     "model_name": "LayoutModel",
     "state": {
      "_model_module": "@jupyter-widgets/base",
      "_model_module_version": "1.2.0",
      "_model_name": "LayoutModel",
      "_view_count": null,
      "_view_module": "@jupyter-widgets/base",
      "_view_module_version": "1.2.0",
      "_view_name": "LayoutView",
      "align_content": null,
      "align_items": null,
      "align_self": null,
      "border": null,
      "bottom": null,
      "display": null,
      "flex": null,
      "flex_flow": null,
      "grid_area": null,
      "grid_auto_columns": null,
      "grid_auto_flow": null,
      "grid_auto_rows": null,
      "grid_column": null,
      "grid_gap": null,
      "grid_row": null,
      "grid_template_areas": null,
      "grid_template_columns": null,
      "grid_template_rows": null,
      "height": null,
      "justify_content": null,
      "justify_items": null,
      "left": null,
      "margin": null,
      "max_height": null,
      "max_width": null,
      "min_height": null,
      "min_width": null,
      "object_fit": null,
      "object_position": null,
      "order": null,
      "overflow": null,
      "overflow_x": null,
      "overflow_y": null,
      "padding": null,
      "right": null,
      "top": null,
      "visibility": null,
      "width": null
     }
    },
    "0e7cfb6c1a7b456bbfdf1e243bd953da": {
     "model_module": "@jupyter-widgets/base",
     "model_module_version": "1.2.0",
     "model_name": "LayoutModel",
     "state": {
      "_model_module": "@jupyter-widgets/base",
      "_model_module_version": "1.2.0",
      "_model_name": "LayoutModel",
      "_view_count": null,
      "_view_module": "@jupyter-widgets/base",
      "_view_module_version": "1.2.0",
      "_view_name": "LayoutView",
      "align_content": null,
      "align_items": null,
      "align_self": null,
      "border": null,
      "bottom": null,
      "display": null,
      "flex": null,
      "flex_flow": null,
      "grid_area": null,
      "grid_auto_columns": null,
      "grid_auto_flow": null,
      "grid_auto_rows": null,
      "grid_column": null,
      "grid_gap": null,
      "grid_row": null,
      "grid_template_areas": null,
      "grid_template_columns": null,
      "grid_template_rows": null,
      "height": null,
      "justify_content": null,
      "justify_items": null,
      "left": null,
      "margin": null,
      "max_height": null,
      "max_width": null,
      "min_height": null,
      "min_width": null,
      "object_fit": null,
      "object_position": null,
      "order": null,
      "overflow": null,
      "overflow_x": null,
      "overflow_y": null,
      "padding": null,
      "right": null,
      "top": null,
      "visibility": null,
      "width": null
     }
    },
    "1dbce5c9a0a949d7b47309d7bd74ae1e": {
     "model_module": "@jupyter-widgets/controls",
     "model_module_version": "1.5.0",
     "model_name": "DescriptionStyleModel",
     "state": {
      "_model_module": "@jupyter-widgets/controls",
      "_model_module_version": "1.5.0",
      "_model_name": "DescriptionStyleModel",
      "_view_count": null,
      "_view_module": "@jupyter-widgets/base",
      "_view_module_version": "1.2.0",
      "_view_name": "StyleView",
      "description_width": ""
     }
    },
    "292f08bf441a4b7d9ed29ae773be1ecc": {
     "model_module": "@jupyter-widgets/base",
     "model_module_version": "1.2.0",
     "model_name": "LayoutModel",
     "state": {
      "_model_module": "@jupyter-widgets/base",
      "_model_module_version": "1.2.0",
      "_model_name": "LayoutModel",
      "_view_count": null,
      "_view_module": "@jupyter-widgets/base",
      "_view_module_version": "1.2.0",
      "_view_name": "LayoutView",
      "align_content": null,
      "align_items": null,
      "align_self": null,
      "border": null,
      "bottom": null,
      "display": null,
      "flex": null,
      "flex_flow": null,
      "grid_area": null,
      "grid_auto_columns": null,
      "grid_auto_flow": null,
      "grid_auto_rows": null,
      "grid_column": null,
      "grid_gap": null,
      "grid_row": null,
      "grid_template_areas": null,
      "grid_template_columns": null,
      "grid_template_rows": null,
      "height": null,
      "justify_content": null,
      "justify_items": null,
      "left": null,
      "margin": null,
      "max_height": null,
      "max_width": null,
      "min_height": null,
      "min_width": null,
      "object_fit": null,
      "object_position": null,
      "order": null,
      "overflow": null,
      "overflow_x": null,
      "overflow_y": null,
      "padding": null,
      "right": null,
      "top": null,
      "visibility": null,
      "width": null
     }
    },
    "328f36c9dcec4802a7f916199a18c5ab": {
     "model_module": "@jupyter-widgets/base",
     "model_module_version": "1.2.0",
     "model_name": "LayoutModel",
     "state": {
      "_model_module": "@jupyter-widgets/base",
      "_model_module_version": "1.2.0",
      "_model_name": "LayoutModel",
      "_view_count": null,
      "_view_module": "@jupyter-widgets/base",
      "_view_module_version": "1.2.0",
      "_view_name": "LayoutView",
      "align_content": null,
      "align_items": null,
      "align_self": null,
      "border": null,
      "bottom": null,
      "display": null,
      "flex": null,
      "flex_flow": null,
      "grid_area": null,
      "grid_auto_columns": null,
      "grid_auto_flow": null,
      "grid_auto_rows": null,
      "grid_column": null,
      "grid_gap": null,
      "grid_row": null,
      "grid_template_areas": null,
      "grid_template_columns": null,
      "grid_template_rows": null,
      "height": null,
      "justify_content": null,
      "justify_items": null,
      "left": null,
      "margin": null,
      "max_height": null,
      "max_width": null,
      "min_height": null,
      "min_width": null,
      "object_fit": null,
      "object_position": null,
      "order": null,
      "overflow": null,
      "overflow_x": null,
      "overflow_y": null,
      "padding": null,
      "right": null,
      "top": null,
      "visibility": null,
      "width": null
     }
    },
    "34502b3508004427893c734e56d1928a": {
     "model_module": "@jupyter-widgets/controls",
     "model_module_version": "1.5.0",
     "model_name": "HBoxModel",
     "state": {
      "_dom_classes": [],
      "_model_module": "@jupyter-widgets/controls",
      "_model_module_version": "1.5.0",
      "_model_name": "HBoxModel",
      "_view_count": null,
      "_view_module": "@jupyter-widgets/controls",
      "_view_module_version": "1.5.0",
      "_view_name": "HBoxView",
      "box_style": "",
      "children": [
       "IPY_MODEL_e80b7b33c7ad4bd29081379f95272498",
       "IPY_MODEL_01e290c18bf443319098cdea89527b31",
       "IPY_MODEL_d06a936a6d65495dbca75a3b6830e913"
      ],
      "layout": "IPY_MODEL_4d2e923b50684efb93126264a4f78646"
     }
    },
    "37d00023c8ed4da6a7879021847ec7e5": {
     "model_module": "@jupyter-widgets/base",
     "model_module_version": "1.2.0",
     "model_name": "LayoutModel",
     "state": {
      "_model_module": "@jupyter-widgets/base",
      "_model_module_version": "1.2.0",
      "_model_name": "LayoutModel",
      "_view_count": null,
      "_view_module": "@jupyter-widgets/base",
      "_view_module_version": "1.2.0",
      "_view_name": "LayoutView",
      "align_content": null,
      "align_items": null,
      "align_self": null,
      "border": null,
      "bottom": null,
      "display": null,
      "flex": null,
      "flex_flow": null,
      "grid_area": null,
      "grid_auto_columns": null,
      "grid_auto_flow": null,
      "grid_auto_rows": null,
      "grid_column": null,
      "grid_gap": null,
      "grid_row": null,
      "grid_template_areas": null,
      "grid_template_columns": null,
      "grid_template_rows": null,
      "height": null,
      "justify_content": null,
      "justify_items": null,
      "left": null,
      "margin": null,
      "max_height": null,
      "max_width": null,
      "min_height": null,
      "min_width": null,
      "object_fit": null,
      "object_position": null,
      "order": null,
      "overflow": null,
      "overflow_x": null,
      "overflow_y": null,
      "padding": null,
      "right": null,
      "top": null,
      "visibility": null,
      "width": null
     }
    },
    "4406158e4fed4bc9ac13781c0ea9394b": {
     "model_module": "@jupyter-widgets/base",
     "model_module_version": "1.2.0",
     "model_name": "LayoutModel",
     "state": {
      "_model_module": "@jupyter-widgets/base",
      "_model_module_version": "1.2.0",
      "_model_name": "LayoutModel",
      "_view_count": null,
      "_view_module": "@jupyter-widgets/base",
      "_view_module_version": "1.2.0",
      "_view_name": "LayoutView",
      "align_content": null,
      "align_items": null,
      "align_self": null,
      "border": null,
      "bottom": null,
      "display": null,
      "flex": null,
      "flex_flow": null,
      "grid_area": null,
      "grid_auto_columns": null,
      "grid_auto_flow": null,
      "grid_auto_rows": null,
      "grid_column": null,
      "grid_gap": null,
      "grid_row": null,
      "grid_template_areas": null,
      "grid_template_columns": null,
      "grid_template_rows": null,
      "height": null,
      "justify_content": null,
      "justify_items": null,
      "left": null,
      "margin": null,
      "max_height": null,
      "max_width": null,
      "min_height": null,
      "min_width": null,
      "object_fit": null,
      "object_position": null,
      "order": null,
      "overflow": null,
      "overflow_x": null,
      "overflow_y": null,
      "padding": null,
      "right": null,
      "top": null,
      "visibility": null,
      "width": null
     }
    },
    "4d2e923b50684efb93126264a4f78646": {
     "model_module": "@jupyter-widgets/base",
     "model_module_version": "1.2.0",
     "model_name": "LayoutModel",
     "state": {
      "_model_module": "@jupyter-widgets/base",
      "_model_module_version": "1.2.0",
      "_model_name": "LayoutModel",
      "_view_count": null,
      "_view_module": "@jupyter-widgets/base",
      "_view_module_version": "1.2.0",
      "_view_name": "LayoutView",
      "align_content": null,
      "align_items": null,
      "align_self": null,
      "border": null,
      "bottom": null,
      "display": null,
      "flex": null,
      "flex_flow": null,
      "grid_area": null,
      "grid_auto_columns": null,
      "grid_auto_flow": null,
      "grid_auto_rows": null,
      "grid_column": null,
      "grid_gap": null,
      "grid_row": null,
      "grid_template_areas": null,
      "grid_template_columns": null,
      "grid_template_rows": null,
      "height": null,
      "justify_content": null,
      "justify_items": null,
      "left": null,
      "margin": null,
      "max_height": null,
      "max_width": null,
      "min_height": null,
      "min_width": null,
      "object_fit": null,
      "object_position": null,
      "order": null,
      "overflow": null,
      "overflow_x": null,
      "overflow_y": null,
      "padding": null,
      "right": null,
      "top": null,
      "visibility": null,
      "width": null
     }
    },
    "5b4cc1b719134be188a58f5eee5d8282": {
     "model_module": "@jupyter-widgets/controls",
     "model_module_version": "1.5.0",
     "model_name": "FloatProgressModel",
     "state": {
      "_dom_classes": [],
      "_model_module": "@jupyter-widgets/controls",
      "_model_module_version": "1.5.0",
      "_model_name": "FloatProgressModel",
      "_view_count": null,
      "_view_module": "@jupyter-widgets/controls",
      "_view_module_version": "1.5.0",
      "_view_name": "ProgressView",
      "bar_style": "danger",
      "description": "",
      "description_tooltip": null,
      "layout": "IPY_MODEL_37d00023c8ed4da6a7879021847ec7e5",
      "max": 60964,
      "min": 0,
      "orientation": "horizontal",
      "style": "IPY_MODEL_9b11e6910fe54aa19ecaa526e4ce086d",
      "value": 10000
     }
    },
    "5c0fb6c686ae4f7ca734f1d9c178e7af": {
     "model_module": "@jupyter-widgets/base",
     "model_module_version": "1.2.0",
     "model_name": "LayoutModel",
     "state": {
      "_model_module": "@jupyter-widgets/base",
      "_model_module_version": "1.2.0",
      "_model_name": "LayoutModel",
      "_view_count": null,
      "_view_module": "@jupyter-widgets/base",
      "_view_module_version": "1.2.0",
      "_view_name": "LayoutView",
      "align_content": null,
      "align_items": null,
      "align_self": null,
      "border": null,
      "bottom": null,
      "display": null,
      "flex": null,
      "flex_flow": null,
      "grid_area": null,
      "grid_auto_columns": null,
      "grid_auto_flow": null,
      "grid_auto_rows": null,
      "grid_column": null,
      "grid_gap": null,
      "grid_row": null,
      "grid_template_areas": null,
      "grid_template_columns": null,
      "grid_template_rows": null,
      "height": null,
      "justify_content": null,
      "justify_items": null,
      "left": null,
      "margin": null,
      "max_height": null,
      "max_width": null,
      "min_height": null,
      "min_width": null,
      "object_fit": null,
      "object_position": null,
      "order": null,
      "overflow": null,
      "overflow_x": null,
      "overflow_y": null,
      "padding": null,
      "right": null,
      "top": null,
      "visibility": null,
      "width": null
     }
    },
    "693b405af2a449ae9b9e7064f7251663": {
     "model_module": "@jupyter-widgets/controls",
     "model_module_version": "1.5.0",
     "model_name": "HBoxModel",
     "state": {
      "_dom_classes": [],
      "_model_module": "@jupyter-widgets/controls",
      "_model_module_version": "1.5.0",
      "_model_name": "HBoxModel",
      "_view_count": null,
      "_view_module": "@jupyter-widgets/controls",
      "_view_module_version": "1.5.0",
      "_view_name": "HBoxView",
      "box_style": "",
      "children": [
       "IPY_MODEL_da479568586d471b8d237fd7d6df3380",
       "IPY_MODEL_5b4cc1b719134be188a58f5eee5d8282",
       "IPY_MODEL_beb60eebb4d6439b9ac9b30c6245fcde"
      ],
      "layout": "IPY_MODEL_f4e02645be344b1b9498ea0f9da034f2"
     }
    },
    "78cc25fd96714150bad80a37492f2ed9": {
     "model_module": "@jupyter-widgets/controls",
     "model_module_version": "1.5.0",
     "model_name": "HTMLModel",
     "state": {
      "_dom_classes": [],
      "_model_module": "@jupyter-widgets/controls",
      "_model_module_version": "1.5.0",
      "_model_name": "HTMLModel",
      "_view_count": null,
      "_view_module": "@jupyter-widgets/controls",
      "_view_module_version": "1.5.0",
      "_view_name": "HTMLView",
      "description": "",
      "description_tooltip": null,
      "layout": "IPY_MODEL_c839fd372ebe48848694392d69dd49aa",
      "placeholder": "​",
      "style": "IPY_MODEL_1dbce5c9a0a949d7b47309d7bd74ae1e",
      "value": "100%"
     }
    },
    "7f070ccefa1446338cee549364f78b6d": {
     "model_module": "@jupyter-widgets/base",
     "model_module_version": "1.2.0",
     "model_name": "LayoutModel",
     "state": {
      "_model_module": "@jupyter-widgets/base",
      "_model_module_version": "1.2.0",
      "_model_name": "LayoutModel",
      "_view_count": null,
      "_view_module": "@jupyter-widgets/base",
      "_view_module_version": "1.2.0",
      "_view_name": "LayoutView",
      "align_content": null,
      "align_items": null,
      "align_self": null,
      "border": null,
      "bottom": null,
      "display": null,
      "flex": null,
      "flex_flow": null,
      "grid_area": null,
      "grid_auto_columns": null,
      "grid_auto_flow": null,
      "grid_auto_rows": null,
      "grid_column": null,
      "grid_gap": null,
      "grid_row": null,
      "grid_template_areas": null,
      "grid_template_columns": null,
      "grid_template_rows": null,
      "height": null,
      "justify_content": null,
      "justify_items": null,
      "left": null,
      "margin": null,
      "max_height": null,
      "max_width": null,
      "min_height": null,
      "min_width": null,
      "object_fit": null,
      "object_position": null,
      "order": null,
      "overflow": null,
      "overflow_x": null,
      "overflow_y": null,
      "padding": null,
      "right": null,
      "top": null,
      "visibility": null,
      "width": null
     }
    },
    "8ca38856fb854b47869a857d0df60a0b": {
     "model_module": "@jupyter-widgets/controls",
     "model_module_version": "1.5.0",
     "model_name": "DescriptionStyleModel",
     "state": {
      "_model_module": "@jupyter-widgets/controls",
      "_model_module_version": "1.5.0",
      "_model_name": "DescriptionStyleModel",
      "_view_count": null,
      "_view_module": "@jupyter-widgets/base",
      "_view_module_version": "1.2.0",
      "_view_name": "StyleView",
      "description_width": ""
     }
    },
    "8dd4bfb6e0084191b51ee86694f6bdb4": {
     "model_module": "@jupyter-widgets/base",
     "model_module_version": "1.2.0",
     "model_name": "LayoutModel",
     "state": {
      "_model_module": "@jupyter-widgets/base",
      "_model_module_version": "1.2.0",
      "_model_name": "LayoutModel",
      "_view_count": null,
      "_view_module": "@jupyter-widgets/base",
      "_view_module_version": "1.2.0",
      "_view_name": "LayoutView",
      "align_content": null,
      "align_items": null,
      "align_self": null,
      "border": null,
      "bottom": null,
      "display": null,
      "flex": null,
      "flex_flow": null,
      "grid_area": null,
      "grid_auto_columns": null,
      "grid_auto_flow": null,
      "grid_auto_rows": null,
      "grid_column": null,
      "grid_gap": null,
      "grid_row": null,
      "grid_template_areas": null,
      "grid_template_columns": null,
      "grid_template_rows": null,
      "height": null,
      "justify_content": null,
      "justify_items": null,
      "left": null,
      "margin": null,
      "max_height": null,
      "max_width": null,
      "min_height": null,
      "min_width": null,
      "object_fit": null,
      "object_position": null,
      "order": null,
      "overflow": null,
      "overflow_x": null,
      "overflow_y": null,
      "padding": null,
      "right": null,
      "top": null,
      "visibility": null,
      "width": null
     }
    },
    "911b6973961b4ed19779012acdcdca65": {
     "model_module": "@jupyter-widgets/controls",
     "model_module_version": "1.5.0",
     "model_name": "ProgressStyleModel",
     "state": {
      "_model_module": "@jupyter-widgets/controls",
      "_model_module_version": "1.5.0",
      "_model_name": "ProgressStyleModel",
      "_view_count": null,
      "_view_module": "@jupyter-widgets/base",
      "_view_module_version": "1.2.0",
      "_view_name": "StyleView",
      "bar_color": null,
      "description_width": ""
     }
    },
    "954393e1403b4d00bb60c8608dac397a": {
     "model_module": "@jupyter-widgets/controls",
     "model_module_version": "1.5.0",
     "model_name": "HTMLModel",
     "state": {
      "_dom_classes": [],
      "_model_module": "@jupyter-widgets/controls",
      "_model_module_version": "1.5.0",
      "_model_name": "HTMLModel",
      "_view_count": null,
      "_view_module": "@jupyter-widgets/controls",
      "_view_module_version": "1.5.0",
      "_view_name": "HTMLView",
      "description": "",
      "description_tooltip": null,
      "layout": "IPY_MODEL_292f08bf441a4b7d9ed29ae773be1ecc",
      "placeholder": "​",
      "style": "IPY_MODEL_b62ad199bcf049fea311d72472477c91",
      "value": " 10000/10001 [16:15&lt;00:00, 10.21it/s]"
     }
    },
    "9b11e6910fe54aa19ecaa526e4ce086d": {
     "model_module": "@jupyter-widgets/controls",
     "model_module_version": "1.5.0",
     "model_name": "ProgressStyleModel",
     "state": {
      "_model_module": "@jupyter-widgets/controls",
      "_model_module_version": "1.5.0",
      "_model_name": "ProgressStyleModel",
      "_view_count": null,
      "_view_module": "@jupyter-widgets/base",
      "_view_module_version": "1.2.0",
      "_view_name": "StyleView",
      "bar_color": null,
      "description_width": ""
     }
    },
    "b62ad199bcf049fea311d72472477c91": {
     "model_module": "@jupyter-widgets/controls",
     "model_module_version": "1.5.0",
     "model_name": "DescriptionStyleModel",
     "state": {
      "_model_module": "@jupyter-widgets/controls",
      "_model_module_version": "1.5.0",
      "_model_name": "DescriptionStyleModel",
      "_view_count": null,
      "_view_module": "@jupyter-widgets/base",
      "_view_module_version": "1.2.0",
      "_view_name": "StyleView",
      "description_width": ""
     }
    },
    "beb60eebb4d6439b9ac9b30c6245fcde": {
     "model_module": "@jupyter-widgets/controls",
     "model_module_version": "1.5.0",
     "model_name": "HTMLModel",
     "state": {
      "_dom_classes": [],
      "_model_module": "@jupyter-widgets/controls",
      "_model_module_version": "1.5.0",
      "_model_name": "HTMLModel",
      "_view_count": null,
      "_view_module": "@jupyter-widgets/controls",
      "_view_module_version": "1.5.0",
      "_view_name": "HTMLView",
      "description": "",
      "description_tooltip": null,
      "layout": "IPY_MODEL_4406158e4fed4bc9ac13781c0ea9394b",
      "placeholder": "​",
      "style": "IPY_MODEL_d93e5556dce9415482dc48505783d28e",
      "value": " 10000/60964 [00:00&lt;00:00, 65466.94it/s]"
     }
    },
    "c70d4f0097204649a35c29ee9a5b9b07": {
     "model_module": "@jupyter-widgets/controls",
     "model_module_version": "1.5.0",
     "model_name": "ProgressStyleModel",
     "state": {
      "_model_module": "@jupyter-widgets/controls",
      "_model_module_version": "1.5.0",
      "_model_name": "ProgressStyleModel",
      "_view_count": null,
      "_view_module": "@jupyter-widgets/base",
      "_view_module_version": "1.2.0",
      "_view_name": "StyleView",
      "bar_color": null,
      "description_width": ""
     }
    },
    "c839fd372ebe48848694392d69dd49aa": {
     "model_module": "@jupyter-widgets/base",
     "model_module_version": "1.2.0",
     "model_name": "LayoutModel",
     "state": {
      "_model_module": "@jupyter-widgets/base",
      "_model_module_version": "1.2.0",
      "_model_name": "LayoutModel",
      "_view_count": null,
      "_view_module": "@jupyter-widgets/base",
      "_view_module_version": "1.2.0",
      "_view_name": "LayoutView",
      "align_content": null,
      "align_items": null,
      "align_self": null,
      "border": null,
      "bottom": null,
      "display": null,
      "flex": null,
      "flex_flow": null,
      "grid_area": null,
      "grid_auto_columns": null,
      "grid_auto_flow": null,
      "grid_auto_rows": null,
      "grid_column": null,
      "grid_gap": null,
      "grid_row": null,
      "grid_template_areas": null,
      "grid_template_columns": null,
      "grid_template_rows": null,
      "height": null,
      "justify_content": null,
      "justify_items": null,
      "left": null,
      "margin": null,
      "max_height": null,
      "max_width": null,
      "min_height": null,
      "min_width": null,
      "object_fit": null,
      "object_position": null,
      "order": null,
      "overflow": null,
      "overflow_x": null,
      "overflow_y": null,
      "padding": null,
      "right": null,
      "top": null,
      "visibility": null,
      "width": null
     }
    },
    "d06a936a6d65495dbca75a3b6830e913": {
     "model_module": "@jupyter-widgets/controls",
     "model_module_version": "1.5.0",
     "model_name": "HTMLModel",
     "state": {
      "_dom_classes": [],
      "_model_module": "@jupyter-widgets/controls",
      "_model_module_version": "1.5.0",
      "_model_name": "HTMLModel",
      "_view_count": null,
      "_view_module": "@jupyter-widgets/controls",
      "_view_module_version": "1.5.0",
      "_view_name": "HTMLView",
      "description": "",
      "description_tooltip": null,
      "layout": "IPY_MODEL_7f070ccefa1446338cee549364f78b6d",
      "placeholder": "​",
      "style": "IPY_MODEL_8ca38856fb854b47869a857d0df60a0b",
      "value": " 10001/10001 [14:51&lt;00:00, 11.29it/s]"
     }
    },
    "d93e5556dce9415482dc48505783d28e": {
     "model_module": "@jupyter-widgets/controls",
     "model_module_version": "1.5.0",
     "model_name": "DescriptionStyleModel",
     "state": {
      "_model_module": "@jupyter-widgets/controls",
      "_model_module_version": "1.5.0",
      "_model_name": "DescriptionStyleModel",
      "_view_count": null,
      "_view_module": "@jupyter-widgets/base",
      "_view_module_version": "1.2.0",
      "_view_name": "StyleView",
      "description_width": ""
     }
    },
    "da479568586d471b8d237fd7d6df3380": {
     "model_module": "@jupyter-widgets/controls",
     "model_module_version": "1.5.0",
     "model_name": "HTMLModel",
     "state": {
      "_dom_classes": [],
      "_model_module": "@jupyter-widgets/controls",
      "_model_module_version": "1.5.0",
      "_model_name": "HTMLModel",
      "_view_count": null,
      "_view_module": "@jupyter-widgets/controls",
      "_view_module_version": "1.5.0",
      "_view_name": "HTMLView",
      "description": "",
      "description_tooltip": null,
      "layout": "IPY_MODEL_8dd4bfb6e0084191b51ee86694f6bdb4",
      "placeholder": "​",
      "style": "IPY_MODEL_ec334704b0414375897f5b8f9fa5270c",
      "value": " 16%"
     }
    },
    "e47184fa508b4f938e54e3243db60598": {
     "model_module": "@jupyter-widgets/controls",
     "model_module_version": "1.5.0",
     "model_name": "HBoxModel",
     "state": {
      "_dom_classes": [],
      "_model_module": "@jupyter-widgets/controls",
      "_model_module_version": "1.5.0",
      "_model_name": "HBoxModel",
      "_view_count": null,
      "_view_module": "@jupyter-widgets/controls",
      "_view_module_version": "1.5.0",
      "_view_name": "HBoxView",
      "box_style": "",
      "children": [
       "IPY_MODEL_78cc25fd96714150bad80a37492f2ed9",
       "IPY_MODEL_f5e7fe78ecdd4f99aecdcbc3352bac92",
       "IPY_MODEL_954393e1403b4d00bb60c8608dac397a"
      ],
      "layout": "IPY_MODEL_328f36c9dcec4802a7f916199a18c5ab"
     }
    },
    "e80b7b33c7ad4bd29081379f95272498": {
     "model_module": "@jupyter-widgets/controls",
     "model_module_version": "1.5.0",
     "model_name": "HTMLModel",
     "state": {
      "_dom_classes": [],
      "_model_module": "@jupyter-widgets/controls",
      "_model_module_version": "1.5.0",
      "_model_name": "HTMLModel",
      "_view_count": null,
      "_view_module": "@jupyter-widgets/controls",
      "_view_module_version": "1.5.0",
      "_view_name": "HTMLView",
      "description": "",
      "description_tooltip": null,
      "layout": "IPY_MODEL_0e7cfb6c1a7b456bbfdf1e243bd953da",
      "placeholder": "​",
      "style": "IPY_MODEL_fddb4b78389c4cbd98d5e38666fd4fc3",
      "value": "100%"
     }
    },
    "ec334704b0414375897f5b8f9fa5270c": {
     "model_module": "@jupyter-widgets/controls",
     "model_module_version": "1.5.0",
     "model_name": "DescriptionStyleModel",
     "state": {
      "_model_module": "@jupyter-widgets/controls",
      "_model_module_version": "1.5.0",
      "_model_name": "DescriptionStyleModel",
      "_view_count": null,
      "_view_module": "@jupyter-widgets/base",
      "_view_module_version": "1.2.0",
      "_view_name": "StyleView",
      "description_width": ""
     }
    },
    "f4e02645be344b1b9498ea0f9da034f2": {
     "model_module": "@jupyter-widgets/base",
     "model_module_version": "1.2.0",
     "model_name": "LayoutModel",
     "state": {
      "_model_module": "@jupyter-widgets/base",
      "_model_module_version": "1.2.0",
      "_model_name": "LayoutModel",
      "_view_count": null,
      "_view_module": "@jupyter-widgets/base",
      "_view_module_version": "1.2.0",
      "_view_name": "LayoutView",
      "align_content": null,
      "align_items": null,
      "align_self": null,
      "border": null,
      "bottom": null,
      "display": null,
      "flex": null,
      "flex_flow": null,
      "grid_area": null,
      "grid_auto_columns": null,
      "grid_auto_flow": null,
      "grid_auto_rows": null,
      "grid_column": null,
      "grid_gap": null,
      "grid_row": null,
      "grid_template_areas": null,
      "grid_template_columns": null,
      "grid_template_rows": null,
      "height": null,
      "justify_content": null,
      "justify_items": null,
      "left": null,
      "margin": null,
      "max_height": null,
      "max_width": null,
      "min_height": null,
      "min_width": null,
      "object_fit": null,
      "object_position": null,
      "order": null,
      "overflow": null,
      "overflow_x": null,
      "overflow_y": null,
      "padding": null,
      "right": null,
      "top": null,
      "visibility": null,
      "width": null
     }
    },
    "f5e7fe78ecdd4f99aecdcbc3352bac92": {
     "model_module": "@jupyter-widgets/controls",
     "model_module_version": "1.5.0",
     "model_name": "FloatProgressModel",
     "state": {
      "_dom_classes": [],
      "_model_module": "@jupyter-widgets/controls",
      "_model_module_version": "1.5.0",
      "_model_name": "FloatProgressModel",
      "_view_count": null,
      "_view_module": "@jupyter-widgets/controls",
      "_view_module_version": "1.5.0",
      "_view_name": "ProgressView",
      "bar_style": "danger",
      "description": "",
      "description_tooltip": null,
      "layout": "IPY_MODEL_5c0fb6c686ae4f7ca734f1d9c178e7af",
      "max": 10001,
      "min": 0,
      "orientation": "horizontal",
      "style": "IPY_MODEL_911b6973961b4ed19779012acdcdca65",
      "value": 10000
     }
    },
    "fddb4b78389c4cbd98d5e38666fd4fc3": {
     "model_module": "@jupyter-widgets/controls",
     "model_module_version": "1.5.0",
     "model_name": "DescriptionStyleModel",
     "state": {
      "_model_module": "@jupyter-widgets/controls",
      "_model_module_version": "1.5.0",
      "_model_name": "DescriptionStyleModel",
      "_view_count": null,
      "_view_module": "@jupyter-widgets/base",
      "_view_module_version": "1.2.0",
      "_view_name": "StyleView",
      "description_width": ""
     }
    }
   }
  }
 },
 "nbformat": 4,
 "nbformat_minor": 1
}
