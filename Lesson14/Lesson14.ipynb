{
 "cells": [
  {
   "cell_type": "markdown",
   "metadata": {
    "id": "pPaTRQmWsDky"
   },
   "source": [
    "### Домашнее задание:\n",
    "\n",
    "Задание:\n",
    "\n",
    "1. Взять данные из\n",
    "https://www.kaggle.com/datasets/mrapplexz/bashim-quotes\n",
    "и обучить модель GPT для генерации своих цитат.\n",
    "\n",
    "2. Взять новостные данные из\n",
    "https://github.com/natasha/corus\n",
    "load_lenta2. Нам понадобится сам текст и заголовок.\n",
    "Обучить модель T5/ или GPT для генерации заголовков для статей.\n"
   ]
  },
  {
   "cell_type": "code",
   "execution_count": null,
   "metadata": {
    "id": "BD_2sc81DP9I"
   },
   "outputs": [],
   "source": [
    "import pandas as pd\n",
    "import json\n",
    "import re\n",
    "!pip install transformers\n",
    "!pip install datasets\n",
    "pd.set_option('max_colwidth', 400)\n",
    "import re\n",
    "from sklearn.model_selection import train_test_split\n",
    "import numpy as np\n",
    "from datasets import Dataset\n",
    "from transformers import AutoTokenizer\n",
    "from transformers import TextDataset, DataCollatorForLanguageModeling\n",
    "from transformers import T5ForConditionalGeneration, Trainer, TrainingArguments\n",
    "import gc\n",
    "import torch"
   ]
  },
  {
   "cell_type": "markdown",
   "metadata": {
    "id": "Ffcci7o0mrH7"
   },
   "source": [
    "### Генерация цитат:"
   ]
  },
  {
   "cell_type": "code",
   "execution_count": null,
   "metadata": {
    "colab": {
     "base_uri": "https://localhost:8080/"
    },
    "id": "dpsh7drvzgGc",
    "outputId": "be1b5f05-e75e-43e9-f195-795d7c2da7ac"
   },
   "outputs": [
    {
     "name": "stdout",
     "output_type": "stream",
     "text": [
      "mkdir: cannot create directory ‘/root/.kaggle’: File exists\n",
      "bashim-quotes.zip: Skipping, found more recently modified local copy (use --force to force download)\n",
      "bashim-quotes.zip: Skipping, found more recently modified local copy (use --force to force download)\n",
      "Archive:  /content/bashim-quotes.zip\n",
      "replace dataset.jsonl? [y]es, [n]o, [A]ll, [N]one, [r]ename: n\n"
     ]
    }
   ],
   "source": [
    "# Скачаем датасет\n",
    "\n",
    "!pip install -q kaggle\n",
    "!mkdir ~/.kaggle\n",
    "!cp '/content/drive/MyDrive/Colab Notebooks/kaggle.json' ~/.kaggle/\n",
    "!chmod 600 ~/.kaggle/kaggle.json\n",
    "!kaggle datasets download -d mrapplexz/bashim-quotes\n",
    "!kaggle datasets download -d mrapplexz/bashim-quotes\n",
    "!unzip /content/bashim-quotes.zip"
   ]
  },
  {
   "cell_type": "code",
   "execution_count": null,
   "metadata": {
    "colab": {
     "base_uri": "https://localhost:8080/",
     "height": 206
    },
    "id": "nRj4aeIiIVO5",
    "outputId": "cfb3b44d-d8bb-4fcb-f74a-363792ecf405"
   },
   "outputs": [
    {
     "data": {
      "text/html": [
       "\n",
       "  <div id=\"df-b9e1106f-b63e-4c4a-b62d-4a2616cd8aa8\">\n",
       "    <div class=\"colab-df-container\">\n",
       "      <div>\n",
       "<style scoped>\n",
       "    .dataframe tbody tr th:only-of-type {\n",
       "        vertical-align: middle;\n",
       "    }\n",
       "\n",
       "    .dataframe tbody tr th {\n",
       "        vertical-align: top;\n",
       "    }\n",
       "\n",
       "    .dataframe thead th {\n",
       "        text-align: right;\n",
       "    }\n",
       "</style>\n",
       "<table border=\"1\" class=\"dataframe\">\n",
       "  <thead>\n",
       "    <tr style=\"text-align: right;\">\n",
       "      <th></th>\n",
       "      <th>id</th>\n",
       "      <th>date</th>\n",
       "      <th>rating</th>\n",
       "      <th>text</th>\n",
       "    </tr>\n",
       "  </thead>\n",
       "  <tbody>\n",
       "    <tr>\n",
       "      <th>0</th>\n",
       "      <td>1</td>\n",
       "      <td>2004-08-30 11:24:00+00:00</td>\n",
       "      <td>22010.0</td>\n",
       "      <td>&lt;Ares&gt; ppdv, все юниксы очень дружелюбны.. они просто очень разборчивы в друзьях ;)</td>\n",
       "    </tr>\n",
       "    <tr>\n",
       "      <th>1</th>\n",
       "      <td>2</td>\n",
       "      <td>2004-08-30 11:25:00+00:00</td>\n",
       "      <td>25105.0</td>\n",
       "      <td>&lt;томатик_рад&gt; а ты не чувствуешь красоту мира?\\n&lt;fox&gt; честно говоря, я сейчас чувствую только отсутствие http.\\n&lt;томатик_рад&gt; не туда смотришь, глянь вокруг!\\n&lt;fox&gt; как я гляну, если http не работает? :/</td>\n",
       "    </tr>\n",
       "    <tr>\n",
       "      <th>2</th>\n",
       "      <td>3</td>\n",
       "      <td>2004-08-30 11:27:00+00:00</td>\n",
       "      <td>7192.0</td>\n",
       "      <td>&lt;Дор&gt; \"мышка, почему у тебя такие большие глаза?\" УЙДИ!!! я ХАРАКИРИ делаю!!!!!!</td>\n",
       "    </tr>\n",
       "    <tr>\n",
       "      <th>3</th>\n",
       "      <td>4</td>\n",
       "      <td>2004-08-30 11:28:00+00:00</td>\n",
       "      <td>29169.0</td>\n",
       "      <td>&lt;PPDV[os2]&gt; \"Мальчики, вы что больные, бегать в палату к девочкам?! - Если б мы были больные - мы б бегали к другим мальчикам\"</td>\n",
       "    </tr>\n",
       "    <tr>\n",
       "      <th>4</th>\n",
       "      <td>5</td>\n",
       "      <td>2004-08-30 11:26:00+00:00</td>\n",
       "      <td>7140.0</td>\n",
       "      <td>&lt;Ohtori_Akio&gt; мы - как разработчики - живём с субейзом под одбц. \\n&lt;Ohtori_Akio&gt; лучше бы мы жили в пещере с гоблинами.</td>\n",
       "    </tr>\n",
       "  </tbody>\n",
       "</table>\n",
       "</div>\n",
       "      <button class=\"colab-df-convert\" onclick=\"convertToInteractive('df-b9e1106f-b63e-4c4a-b62d-4a2616cd8aa8')\"\n",
       "              title=\"Convert this dataframe to an interactive table.\"\n",
       "              style=\"display:none;\">\n",
       "        \n",
       "  <svg xmlns=\"http://www.w3.org/2000/svg\" height=\"24px\"viewBox=\"0 0 24 24\"\n",
       "       width=\"24px\">\n",
       "    <path d=\"M0 0h24v24H0V0z\" fill=\"none\"/>\n",
       "    <path d=\"M18.56 5.44l.94 2.06.94-2.06 2.06-.94-2.06-.94-.94-2.06-.94 2.06-2.06.94zm-11 1L8.5 8.5l.94-2.06 2.06-.94-2.06-.94L8.5 2.5l-.94 2.06-2.06.94zm10 10l.94 2.06.94-2.06 2.06-.94-2.06-.94-.94-2.06-.94 2.06-2.06.94z\"/><path d=\"M17.41 7.96l-1.37-1.37c-.4-.4-.92-.59-1.43-.59-.52 0-1.04.2-1.43.59L10.3 9.45l-7.72 7.72c-.78.78-.78 2.05 0 2.83L4 21.41c.39.39.9.59 1.41.59.51 0 1.02-.2 1.41-.59l7.78-7.78 2.81-2.81c.8-.78.8-2.07 0-2.86zM5.41 20L4 18.59l7.72-7.72 1.47 1.35L5.41 20z\"/>\n",
       "  </svg>\n",
       "      </button>\n",
       "      \n",
       "  <style>\n",
       "    .colab-df-container {\n",
       "      display:flex;\n",
       "      flex-wrap:wrap;\n",
       "      gap: 12px;\n",
       "    }\n",
       "\n",
       "    .colab-df-convert {\n",
       "      background-color: #E8F0FE;\n",
       "      border: none;\n",
       "      border-radius: 50%;\n",
       "      cursor: pointer;\n",
       "      display: none;\n",
       "      fill: #1967D2;\n",
       "      height: 32px;\n",
       "      padding: 0 0 0 0;\n",
       "      width: 32px;\n",
       "    }\n",
       "\n",
       "    .colab-df-convert:hover {\n",
       "      background-color: #E2EBFA;\n",
       "      box-shadow: 0px 1px 2px rgba(60, 64, 67, 0.3), 0px 1px 3px 1px rgba(60, 64, 67, 0.15);\n",
       "      fill: #174EA6;\n",
       "    }\n",
       "\n",
       "    [theme=dark] .colab-df-convert {\n",
       "      background-color: #3B4455;\n",
       "      fill: #D2E3FC;\n",
       "    }\n",
       "\n",
       "    [theme=dark] .colab-df-convert:hover {\n",
       "      background-color: #434B5C;\n",
       "      box-shadow: 0px 1px 3px 1px rgba(0, 0, 0, 0.15);\n",
       "      filter: drop-shadow(0px 1px 2px rgba(0, 0, 0, 0.3));\n",
       "      fill: #FFFFFF;\n",
       "    }\n",
       "  </style>\n",
       "\n",
       "      <script>\n",
       "        const buttonEl =\n",
       "          document.querySelector('#df-b9e1106f-b63e-4c4a-b62d-4a2616cd8aa8 button.colab-df-convert');\n",
       "        buttonEl.style.display =\n",
       "          google.colab.kernel.accessAllowed ? 'block' : 'none';\n",
       "\n",
       "        async function convertToInteractive(key) {\n",
       "          const element = document.querySelector('#df-b9e1106f-b63e-4c4a-b62d-4a2616cd8aa8');\n",
       "          const dataTable =\n",
       "            await google.colab.kernel.invokeFunction('convertToInteractive',\n",
       "                                                     [key], {});\n",
       "          if (!dataTable) return;\n",
       "\n",
       "          const docLinkHtml = 'Like what you see? Visit the ' +\n",
       "            '<a target=\"_blank\" href=https://colab.research.google.com/notebooks/data_table.ipynb>data table notebook</a>'\n",
       "            + ' to learn more about interactive tables.';\n",
       "          element.innerHTML = '';\n",
       "          dataTable['output_type'] = 'display_data';\n",
       "          await google.colab.output.renderOutput(dataTable, element);\n",
       "          const docLink = document.createElement('div');\n",
       "          docLink.innerHTML = docLinkHtml;\n",
       "          element.appendChild(docLink);\n",
       "        }\n",
       "      </script>\n",
       "    </div>\n",
       "  </div>\n",
       "  "
      ],
      "text/plain": [
       "   id                      date   rating  \\\n",
       "0   1 2004-08-30 11:24:00+00:00  22010.0   \n",
       "1   2 2004-08-30 11:25:00+00:00  25105.0   \n",
       "2   3 2004-08-30 11:27:00+00:00   7192.0   \n",
       "3   4 2004-08-30 11:28:00+00:00  29169.0   \n",
       "4   5 2004-08-30 11:26:00+00:00   7140.0   \n",
       "\n",
       "                                                                                                                                                                                                          text  \n",
       "0                                                                                                                          <Ares> ppdv, все юниксы очень дружелюбны.. они просто очень разборчивы в друзьях ;)  \n",
       "1  <томатик_рад> а ты не чувствуешь красоту мира?\\n<fox> честно говоря, я сейчас чувствую только отсутствие http.\\n<томатик_рад> не туда смотришь, глянь вокруг!\\n<fox> как я гляну, если http не работает? :/  \n",
       "2                                                                                                                             <Дор> \"мышка, почему у тебя такие большие глаза?\" УЙДИ!!! я ХАРАКИРИ делаю!!!!!!  \n",
       "3                                                                               <PPDV[os2]> \"Мальчики, вы что больные, бегать в палату к девочкам?! - Если б мы были больные - мы б бегали к другим мальчикам\"  \n",
       "4                                                                                      <Ohtori_Akio> мы - как разработчики - живём с субейзом под одбц. \\n<Ohtori_Akio> лучше бы мы жили в пещере с гоблинами.  "
      ]
     },
     "execution_count": 4,
     "metadata": {},
     "output_type": "execute_result"
    }
   ],
   "source": [
    "data = pd.read_json('/content/dataset.jsonl', lines=True)\n",
    "data.head()"
   ]
  },
  {
   "cell_type": "code",
   "execution_count": null,
   "metadata": {
    "colab": {
     "base_uri": "https://localhost:8080/"
    },
    "id": "nBly5V10Ir4P",
    "outputId": "369a8190-7142-4fd0-cf19-647bd6a4993f"
   },
   "outputs": [
    {
     "data": {
      "text/plain": [
       "(81497, 4)"
      ]
     },
     "execution_count": 5,
     "metadata": {},
     "output_type": "execute_result"
    }
   ],
   "source": [
    "data.shape"
   ]
  },
  {
   "cell_type": "code",
   "execution_count": null,
   "metadata": {
    "id": "5AkHIWrZKV8g"
   },
   "outputs": [],
   "source": [
    "def build_text_files(data_json, dest_path):\n",
    "    f = open(dest_path, 'w')\n",
    "    data = ''\n",
    "    for texts in data_json:\n",
    "        summary = texts.strip()\n",
    "        summary = re.sub(r'<.*?>', '', summary)\n",
    "        data += summary + ' '\n",
    "    f.write(data)"
   ]
  },
  {
   "cell_type": "code",
   "execution_count": null,
   "metadata": {
    "id": "bsh-qheWKV_U"
   },
   "outputs": [],
   "source": [
    "train, test = train_test_split(data, test_size=0.3)\n",
    "\n",
    "build_text_files(train,'train_dataset.txt')\n",
    "build_text_files(test,'test_dataset.txt')"
   ]
  },
  {
   "cell_type": "code",
   "execution_count": null,
   "metadata": {
    "colab": {
     "base_uri": "https://localhost:8080/"
    },
    "id": "HVmxsB2wKWCO",
    "outputId": "ec449376-4c77-4ef5-e0b3-ed2b52201c01"
   },
   "outputs": [
    {
     "name": "stdout",
     "output_type": "stream",
     "text": [
      "Train dataset length: 57047\n",
      "Test dataset length: 24450\n"
     ]
    }
   ],
   "source": [
    "print('Train dataset length: ' + str(len(train)))\n",
    "print('Test dataset length: ' + str(len(test)))"
   ]
  },
  {
   "cell_type": "code",
   "execution_count": null,
   "metadata": {
    "colab": {
     "base_uri": "https://localhost:8080/",
     "height": 101,
     "referenced_widgets": [
      "4837ce0c652e43b1abc6e015da0d1de8",
      "8d2886051f3c4406a6f841c039621fcb",
      "16e0d4e5594040d0be34a2a1c8d4d4f8",
      "c3987b61312d4bca9b963beb49cf3c93",
      "8214d10964214601ba0a61803d4e9262",
      "12ecee6552ee4d5bad53bc82dc700b6c",
      "067dd29df2a04ba79a492c1273ffc9ba",
      "c1d66527486647bbb6c9c04b0035061c",
      "a95cd368f87b493284458ca7c1484e8f",
      "bd106c4653f04f04be119cce9f2088e9",
      "a35a1c4ae1284e068378eb9444f5ecdc"
     ]
    },
    "id": "TGZWAaSnGyIB",
    "outputId": "7bd6d5ef-d5a0-4a0b-b2aa-fb14df33f913"
   },
   "outputs": [
    {
     "name": "stderr",
     "output_type": "stream",
     "text": [
      "The cache for model files in Transformers v4.22.0 has been updated. Migrating your old cache. This is a one-time only operation. You can interrupt this and resume the migration later on by calling `transformers.utils.move_cache()`.\n"
     ]
    },
    {
     "name": "stdout",
     "output_type": "stream",
     "text": [
      "Moving 0 files to the new cache system\n"
     ]
    },
    {
     "data": {
      "application/vnd.jupyter.widget-view+json": {
       "model_id": "4837ce0c652e43b1abc6e015da0d1de8",
       "version_major": 2,
       "version_minor": 0
      },
      "text/plain": [
       "0it [00:00, ?it/s]"
      ]
     },
     "metadata": {},
     "output_type": "display_data"
    },
    {
     "name": "stderr",
     "output_type": "stream",
     "text": [
      "Special tokens have been added in the vocabulary, make sure the associated word embeddings are fine-tuned or trained.\n"
     ]
    }
   ],
   "source": [
    "from transformers import AutoTokenizer\n",
    "from transformers import Trainer, TrainingArguments, AutoModelForCausalLM\n",
    "\n",
    "#sberbank-ai/rugpt3large_based_on_gpt2\n",
    "#sberbank-ai/rugpt3medium_based_on_gpt2\n",
    "#sberbank-ai/rugpt3small_based_on_gpt2\n",
    "\n",
    "tokenizer = AutoTokenizer.from_pretrained('sberbank-ai/rugpt3medium_based_on_gpt2')\n",
    "model = AutoModelForCausalLM.from_pretrained('sberbank-ai/rugpt3medium_based_on_gpt2')\n",
    "\n",
    "train_path = 'train_dataset.txt'\n",
    "test_path = 'test_dataset.txt'"
   ]
  },
  {
   "cell_type": "code",
   "execution_count": null,
   "metadata": {
    "colab": {
     "base_uri": "https://localhost:8080/"
    },
    "id": "bJr0nkDgGpK7",
    "outputId": "dd5524d1-521c-44c8-add8-c049cb5912e4"
   },
   "outputs": [
    {
     "name": "stderr",
     "output_type": "stream",
     "text": [
      "/usr/local/lib/python3.7/dist-packages/transformers/data/datasets/language_modeling.py:58: FutureWarning: This dataset will be removed from the library soon, preprocessing should be handled with the 🤗 Datasets library. You can have a look at this example script for pointers: https://github.com/huggingface/transformers/blob/main/examples/pytorch/language-modeling/run_mlm.py\n",
      "  FutureWarning,\n"
     ]
    }
   ],
   "source": [
    "from transformers import TextDataset, DataCollatorForLanguageModeling\n",
    "\n",
    "def load_dataset(train_path, test_path, tokenizer):\n",
    "    train_dataset = TextDataset(\n",
    "          tokenizer=tokenizer,\n",
    "          file_path=train_path,\n",
    "          block_size=128)\n",
    "\n",
    "    test_dataset = TextDataset(\n",
    "          tokenizer=tokenizer,\n",
    "          file_path=test_path,\n",
    "          block_size=128)\n",
    "\n",
    "    data_collator = DataCollatorForLanguageModeling(\n",
    "        tokenizer=tokenizer, mlm=False,\n",
    "    )\n",
    "    return train_dataset, test_dataset, data_collator\n",
    "\n",
    "train_dataset, test_dataset, data_collator = load_dataset(train_path, test_path, tokenizer)"
   ]
  },
  {
   "cell_type": "code",
   "execution_count": null,
   "metadata": {
    "colab": {
     "base_uri": "https://localhost:8080/",
     "height": 52
    },
    "id": "_NvurzYmGpNk",
    "outputId": "e9b37663-7afb-4cb5-a175-a299583b3661"
   },
   "outputs": [
    {
     "data": {
      "application/vnd.google.colaboratory.intrinsic+json": {
       "type": "string"
      },
      "text/plain": [
       "' тихо, тайно... :) весь город от грохота просыпался. :)  старшее поколение хотело поехать в Париж и умереть, нынешнее желает друг другу поехать в Бобруйск и выпить яду )  на самом деле я добрый, только об этом никто не знает\\n *мрачно* а те кто знают -- уже никому не расскажут...  Макс сидит на работе и читает онигдоды :) \\n Только не сидит, а полулежит; и не анекдоты, а форумы; и не читает, а просматривает :-) \\n А так все именно так, как Свер сказал :-)  интересно а моя даза бан'"
      ]
     },
     "execution_count": 58,
     "metadata": {},
     "output_type": "execute_result"
    }
   ],
   "source": [
    "tokenizer.decode(train_dataset[2])"
   ]
  },
  {
   "cell_type": "code",
   "execution_count": null,
   "metadata": {
    "id": "o6l1-BWSGpVi"
   },
   "outputs": [],
   "source": [
    "training_args = TrainingArguments(\n",
    "    output_dir='./gpt2-chief', \n",
    "    overwrite_output_dir=True,\n",
    "    num_train_epochs=10, \n",
    "    per_device_train_batch_size=4,\n",
    "    per_device_eval_batch_size=4, \n",
    "    eval_steps=100, # Number of update steps between two evaluations.\n",
    "    save_steps=400, # after # steps model is saved\n",
    "    warmup_steps=500, # number of warmup steps for learning rate scheduler\n",
    "    optim = 'adamw_torch',\n",
    "    report_to='all'\n",
    "    )"
   ]
  },
  {
   "cell_type": "code",
   "execution_count": null,
   "metadata": {
    "colab": {
     "base_uri": "https://localhost:8080/",
     "height": 301
    },
    "id": "safdKqDsGpYD",
    "outputId": "3f24e43e-5a68-4306-fa6d-dbb3003e448f"
   },
   "outputs": [
    {
     "name": "stderr",
     "output_type": "stream",
     "text": [
      "***** Running training *****\n",
      "  Num examples = 127\n",
      "  Num Epochs = 5\n",
      "  Instantaneous batch size per device = 4\n",
      "  Total train batch size (w. parallel, distributed & accumulation) = 4\n",
      "  Gradient Accumulation steps = 1\n",
      "  Total optimization steps = 160\n"
     ]
    },
    {
     "data": {
      "text/html": [
       "\n",
       "    <div>\n",
       "      \n",
       "      <progress value='160' max='160' style='width:300px; height:20px; vertical-align: middle;'></progress>\n",
       "      [160/160 01:29, Epoch 5/5]\n",
       "    </div>\n",
       "    <table border=\"1\" class=\"dataframe\">\n",
       "  <thead>\n",
       " <tr style=\"text-align: left;\">\n",
       "      <th>Step</th>\n",
       "      <th>Training Loss</th>\n",
       "    </tr>\n",
       "  </thead>\n",
       "  <tbody>\n",
       "  </tbody>\n",
       "</table><p>"
      ],
      "text/plain": [
       "<IPython.core.display.HTML object>"
      ]
     },
     "metadata": {},
     "output_type": "display_data"
    },
    {
     "name": "stderr",
     "output_type": "stream",
     "text": [
      "\n",
      "\n",
      "Training completed. Do not forget to share your model on huggingface.co/models =)\n",
      "\n",
      "\n"
     ]
    },
    {
     "data": {
      "text/plain": [
       "TrainOutput(global_step=160, training_loss=3.0104391098022463, metrics={'train_runtime': 89.6711, 'train_samples_per_second': 7.081, 'train_steps_per_second': 1.784, 'total_flos': 147431235256320.0, 'train_loss': 3.0104391098022463, 'epoch': 5.0})"
      ]
     },
     "execution_count": 70,
     "metadata": {},
     "output_type": "execute_result"
    }
   ],
   "source": [
    "trainer = Trainer(\n",
    "    model=model,\n",
    "    args=training_args,\n",
    "    data_collator=data_collator,\n",
    "    train_dataset=train_dataset,\n",
    "    eval_dataset=test_dataset\n",
    ")\n",
    "\n",
    "trainer.train()"
   ]
  },
  {
   "cell_type": "code",
   "execution_count": null,
   "metadata": {
    "colab": {
     "base_uri": "https://localhost:8080/"
    },
    "id": "k22AeLFZZX-f",
    "outputId": "e4bce75e-2f48-4a4a-874a-87739b7a0ec8"
   },
   "outputs": [
    {
     "name": "stderr",
     "output_type": "stream",
     "text": [
      "Saving model checkpoint to ./gpt2-chief\n",
      "Configuration saved in ./gpt2-chief/config.json\n",
      "Model weights saved in ./gpt2-chief/pytorch_model.bin\n",
      "tokenizer config file saved in gpt_quotes/tokenizer_config.json\n",
      "Special tokens file saved in gpt_quotes/special_tokens_map.json\n",
      "tokenizer config file saved in gpt_quotes/tokenizer_config.json\n",
      "Special tokens file saved in gpt_quotes/special_tokens_map.json\n",
      "Configuration saved in model_gpt_quotes/config.json\n",
      "Model weights saved in model_gpt_quotes/pytorch_model.bin\n"
     ]
    }
   ],
   "source": [
    "trainer.save_model()\n",
    "tokenizer.save_pretrained('gpt_quotes')\n",
    "model.save_pretrained('model_gpt_quotes')"
   ]
  },
  {
   "cell_type": "code",
   "execution_count": null,
   "metadata": {
    "id": "gPhc26xKZYII"
   },
   "outputs": [],
   "source": [
    "tokenizer = AutoTokenizer.from_pretrained('/content/drive/MyDrive/Colab Notebooks/NLP/gpt_quotes')\n",
    "model_new = AutoModelForCausalLM.from_pretrained('/content/drive/MyDrive/Colab Notebooks/NLP/model_gpt_quotes').to('cuda')"
   ]
  },
  {
   "cell_type": "code",
   "execution_count": null,
   "metadata": {
    "id": "JD8As6pUZYQ0"
   },
   "outputs": [],
   "source": [
    "def generate_quotes(prefix):\n",
    "    tokens = tokenizer(prefix, return_tensors='pt').to('cuda')\n",
    "    size = tokens['input_ids'].shape[1]\n",
    "    output = model_new.generate(\n",
    "        **tokens, \n",
    "        pad_token_id=tokenizer.eos_token_id,\n",
    "        do_sample=False,\n",
    "        max_length=size + 50, \n",
    "        repetition_penalty=5., \n",
    "        # temperature=5,\n",
    "        num_beams=80,\n",
    "        # early_stopping=True,\n",
    "        no_repeat_ngram_size=1)\n",
    "\n",
    "    decoded = tokenizer.decode(output[0])\n",
    "    result = decoded[len(prefix):]\n",
    "    print(f'{prefix} {result}\\n *******\\n')"
   ]
  },
  {
   "cell_type": "code",
   "execution_count": null,
   "metadata": {
    "colab": {
     "base_uri": "https://localhost:8080/"
    },
    "id": "8C9vVBeoZYTs",
    "outputId": "b82c7a7c-67ac-4c1d-a163-4f4998e62940"
   },
   "outputs": [
    {
     "name": "stdout",
     "output_type": "stream",
     "text": [
      "Эээ ... а что это за зверь такой \"зоопарк\" и чем он отличается от обычного зоопарка?\n",
      " ЗОООПАРК (нем. Zoologischer Aufklärungsgemeinschaft) —\n",
      " *******\n",
      "\n",
      "Ну что ж , приступим&hellip;\n",
      "1. Запускаем GNU/Linux (или любой другой дистрибутив) с правами суперпользователя и пишем sudo apt-get install gn\n",
      " *******\n",
      "\n",
      "Сегодня утром  проснулась от того, что кто-то трясет меня за плечо. Открыла глаза и обомлела - на мне была моя любимая футболка с надписью \"Happy Birthday\" (С ДНЁМ РОЖДЕНИЯ!!!)\n",
      " *******\n",
      "\n",
      "Я хочу сказать, что  у нас есть все шансы стать чемпионами мира по футболу в 2018 году&raquo;, &mdash; сказал Мутко на встрече с президентом ФИФА Йозефом Блаттером.\n",
      "Член исполкома Российского футбольного союза (РФС) Сергей\n",
      " *******\n",
      "\n",
      "Кручу верчу  - не могу найти, кто же на самом деле сбил малайзийский \"Боинг\", летевший из Амстердама в Куала-Лумпур рейсом MH17\" авиакомпании Malaysia Airlines 17 июля 2014 года.\n",
      "UPD\n",
      " *******\n",
      "\n",
      "Не надо изысканности &raquo;, &mdash; сказал мне как-то один мой хороший знакомый. Я сначала не понял, что он имеет в виду: то ли дорогую иномарку с кожаными сиденьями и кожаной обивкой салона\n",
      " *******\n",
      "\n",
      "О!  КАКОЕ СЕРЬЁЗНОЕ УСТРОЙСТВО НУЖНО, ЧТОБЫ ПОДКЛЮЧИТЬ К ТЕЛЕВИЗОРУ МУЛЬТИВАРИЮ?\n",
      " Мультимедиа-проигрыва\n",
      " *******\n",
      "\n"
     ]
    }
   ],
   "source": [
    "generate_quotes('Эээ')\n",
    "generate_quotes('Ну что ж')\n",
    "generate_quotes('Сегодня утром')\n",
    "generate_quotes('Я хочу сказать, что')\n",
    "generate_quotes('Кручу верчу')\n",
    "generate_quotes('Не надо изысканности')\n",
    "generate_quotes('О!')"
   ]
  },
  {
   "cell_type": "markdown",
   "metadata": {
    "id": "_vzrZrwmmxQT"
   },
   "source": [
    "### Генерация заголовков:"
   ]
  },
  {
   "cell_type": "code",
   "execution_count": null,
   "metadata": {},
   "outputs": [],
   "source": [
    "!wget https://github.com/yutkin/Lenta.Ru-News-Dataset/releases/download/v1.1/lenta-ru-news.csv.bz2\n",
    "!bzip2 -d lenta-ru-news.csv.bz2"
   ]
  },
  {
   "cell_type": "code",
   "execution_count": 3,
   "metadata": {
    "colab": {
     "base_uri": "https://localhost:8080/",
     "height": 372
    },
    "id": "ishiiEnW9-QR",
    "outputId": "04582edd-db32-4485-8713-811f621cdedb"
   },
   "outputs": [
    {
     "name": "stderr",
     "output_type": "stream",
     "text": [
      "/usr/local/lib/python3.7/dist-packages/IPython/core/interactiveshell.py:3326: DtypeWarning: Columns (3) have mixed types.Specify dtype option on import or set low_memory=False.\n",
      "  exec(code_obj, self.user_global_ns, self.user_ns)\n"
     ]
    },
    {
     "data": {
      "text/html": [
       "\n",
       "  <div id=\"df-32c70b46-0c18-4e9b-a005-2cfd901b622b\">\n",
       "    <div class=\"colab-df-container\">\n",
       "      <div>\n",
       "<style scoped>\n",
       "    .dataframe tbody tr th:only-of-type {\n",
       "        vertical-align: middle;\n",
       "    }\n",
       "\n",
       "    .dataframe tbody tr th {\n",
       "        vertical-align: top;\n",
       "    }\n",
       "\n",
       "    .dataframe thead th {\n",
       "        text-align: right;\n",
       "    }\n",
       "</style>\n",
       "<table border=\"1\" class=\"dataframe\">\n",
       "  <thead>\n",
       "    <tr style=\"text-align: right;\">\n",
       "      <th></th>\n",
       "      <th>url</th>\n",
       "      <th>title</th>\n",
       "      <th>text</th>\n",
       "      <th>topic</th>\n",
       "      <th>tags</th>\n",
       "      <th>date</th>\n",
       "    </tr>\n",
       "  </thead>\n",
       "  <tbody>\n",
       "    <tr>\n",
       "      <th>0</th>\n",
       "      <td>https://lenta.ru/news/1914/09/16/hungarnn/</td>\n",
       "      <td>1914. Русские войска вступили в пределы Венгрии</td>\n",
       "      <td>Бои у Сопоцкина и Друскеник закончились отступлением германцев. Неприятель, приблизившись с севера к Осовцу начал артиллерийскую борьбу с крепостью. В артиллерийском бою принимают участие тяжелые калибры. С раннего утра 14 сентября огонь достиг значительного напряжения. Попытка германской пехоты пробиться ближе к крепости отражена. В Галиции мы заняли Дембицу. Большая колонна, отступавшая по ш...</td>\n",
       "      <td>Библиотека</td>\n",
       "      <td>Первая мировая</td>\n",
       "      <td>1914/09/16</td>\n",
       "    </tr>\n",
       "    <tr>\n",
       "      <th>1</th>\n",
       "      <td>https://lenta.ru/news/1914/09/16/lermontov/</td>\n",
       "      <td>1914. Празднование столетия М.Ю. Лермонтова отложено</td>\n",
       "      <td>Министерство народного просвещения, в виду происходящих чрезвычайных событий, признало соответственным в день годовщины со дня рождения М.Ю. Лермонтова (2-го октября 1914 года) ограничиться совершением в учебных заведениях панихиды по поэту, отложив празднование юбилея до более благоприятного времени.  \\n«Русский инвалид», 16 сентября 1914 года.</td>\n",
       "      <td>Библиотека</td>\n",
       "      <td>Первая мировая</td>\n",
       "      <td>1914/09/16</td>\n",
       "    </tr>\n",
       "    <tr>\n",
       "      <th>2</th>\n",
       "      <td>https://lenta.ru/news/1914/09/17/nesteroff/</td>\n",
       "      <td>1914. Das ist Nesteroff!</td>\n",
       "      <td>Штабс-капитан П. Н. Нестеров на днях, увидев в районе Желтиева, в Галиции, летящий над нашим расположением австрийский аэроплан, собиравшийся бросить бомбы, взлетел на воздух, атаковал неприятеля и протаранил неприятельский аппарат, предотвратив жертвы в наших войсках. Сам Нестеров при этом погиб смертью героя. По словам доставленных в Киев пленных австрийских офицеров, всей неприятельской арм...</td>\n",
       "      <td>Библиотека</td>\n",
       "      <td>Первая мировая</td>\n",
       "      <td>1914/09/17</td>\n",
       "    </tr>\n",
       "    <tr>\n",
       "      <th>3</th>\n",
       "      <td>https://lenta.ru/news/1914/09/17/bulldogn/</td>\n",
       "      <td>1914. Бульдог-гонец под Льежем</td>\n",
       "      <td>Фотограф-корреспондент Daily Mirror рассказывает случай, который порадует всех друзей животных. Лейтенант бельгийской артиллерии, руководивший обороной одного из фортов Льежа, ни за что не хотел расстаться с своей собакой — бульдогом. Когда пруссаки пробрались между фортов в самый город, офицеру пришло в голову доверить бульдогу письмо, в котором он посылал успокоительную весть своим родителям...</td>\n",
       "      <td>Библиотека</td>\n",
       "      <td>Первая мировая</td>\n",
       "      <td>1914/09/17</td>\n",
       "    </tr>\n",
       "    <tr>\n",
       "      <th>4</th>\n",
       "      <td>https://lenta.ru/news/1914/09/18/zver/</td>\n",
       "      <td>1914. Под Люблином пойман швабский зверь</td>\n",
       "      <td>Лица, приехавшие в Варшаву из Люблина, передают, что туда доставлен «швабский зверь» — взятый в плен прусский майор Прейскер, бывший комендант Калиша. Это — здоровый детина, с типично прусским наглым лицом и мутными глазами. Когда этого «зверя» вели с партией пленных по улице и из толпы раздались крики и проклятия, Прейскер трусливо замешался в толпу пленных, стараясь скрыться. Зато в заключен...</td>\n",
       "      <td>Библиотека</td>\n",
       "      <td>Первая мировая</td>\n",
       "      <td>1914/09/18</td>\n",
       "    </tr>\n",
       "  </tbody>\n",
       "</table>\n",
       "</div>\n",
       "      <button class=\"colab-df-convert\" onclick=\"convertToInteractive('df-32c70b46-0c18-4e9b-a005-2cfd901b622b')\"\n",
       "              title=\"Convert this dataframe to an interactive table.\"\n",
       "              style=\"display:none;\">\n",
       "        \n",
       "  <svg xmlns=\"http://www.w3.org/2000/svg\" height=\"24px\"viewBox=\"0 0 24 24\"\n",
       "       width=\"24px\">\n",
       "    <path d=\"M0 0h24v24H0V0z\" fill=\"none\"/>\n",
       "    <path d=\"M18.56 5.44l.94 2.06.94-2.06 2.06-.94-2.06-.94-.94-2.06-.94 2.06-2.06.94zm-11 1L8.5 8.5l.94-2.06 2.06-.94-2.06-.94L8.5 2.5l-.94 2.06-2.06.94zm10 10l.94 2.06.94-2.06 2.06-.94-2.06-.94-.94-2.06-.94 2.06-2.06.94z\"/><path d=\"M17.41 7.96l-1.37-1.37c-.4-.4-.92-.59-1.43-.59-.52 0-1.04.2-1.43.59L10.3 9.45l-7.72 7.72c-.78.78-.78 2.05 0 2.83L4 21.41c.39.39.9.59 1.41.59.51 0 1.02-.2 1.41-.59l7.78-7.78 2.81-2.81c.8-.78.8-2.07 0-2.86zM5.41 20L4 18.59l7.72-7.72 1.47 1.35L5.41 20z\"/>\n",
       "  </svg>\n",
       "      </button>\n",
       "      \n",
       "  <style>\n",
       "    .colab-df-container {\n",
       "      display:flex;\n",
       "      flex-wrap:wrap;\n",
       "      gap: 12px;\n",
       "    }\n",
       "\n",
       "    .colab-df-convert {\n",
       "      background-color: #E8F0FE;\n",
       "      border: none;\n",
       "      border-radius: 50%;\n",
       "      cursor: pointer;\n",
       "      display: none;\n",
       "      fill: #1967D2;\n",
       "      height: 32px;\n",
       "      padding: 0 0 0 0;\n",
       "      width: 32px;\n",
       "    }\n",
       "\n",
       "    .colab-df-convert:hover {\n",
       "      background-color: #E2EBFA;\n",
       "      box-shadow: 0px 1px 2px rgba(60, 64, 67, 0.3), 0px 1px 3px 1px rgba(60, 64, 67, 0.15);\n",
       "      fill: #174EA6;\n",
       "    }\n",
       "\n",
       "    [theme=dark] .colab-df-convert {\n",
       "      background-color: #3B4455;\n",
       "      fill: #D2E3FC;\n",
       "    }\n",
       "\n",
       "    [theme=dark] .colab-df-convert:hover {\n",
       "      background-color: #434B5C;\n",
       "      box-shadow: 0px 1px 3px 1px rgba(0, 0, 0, 0.15);\n",
       "      filter: drop-shadow(0px 1px 2px rgba(0, 0, 0, 0.3));\n",
       "      fill: #FFFFFF;\n",
       "    }\n",
       "  </style>\n",
       "\n",
       "      <script>\n",
       "        const buttonEl =\n",
       "          document.querySelector('#df-32c70b46-0c18-4e9b-a005-2cfd901b622b button.colab-df-convert');\n",
       "        buttonEl.style.display =\n",
       "          google.colab.kernel.accessAllowed ? 'block' : 'none';\n",
       "\n",
       "        async function convertToInteractive(key) {\n",
       "          const element = document.querySelector('#df-32c70b46-0c18-4e9b-a005-2cfd901b622b');\n",
       "          const dataTable =\n",
       "            await google.colab.kernel.invokeFunction('convertToInteractive',\n",
       "                                                     [key], {});\n",
       "          if (!dataTable) return;\n",
       "\n",
       "          const docLinkHtml = 'Like what you see? Visit the ' +\n",
       "            '<a target=\"_blank\" href=https://colab.research.google.com/notebooks/data_table.ipynb>data table notebook</a>'\n",
       "            + ' to learn more about interactive tables.';\n",
       "          element.innerHTML = '';\n",
       "          dataTable['output_type'] = 'display_data';\n",
       "          await google.colab.output.renderOutput(dataTable, element);\n",
       "          const docLink = document.createElement('div');\n",
       "          docLink.innerHTML = docLinkHtml;\n",
       "          element.appendChild(docLink);\n",
       "        }\n",
       "      </script>\n",
       "    </div>\n",
       "  </div>\n",
       "  "
      ],
      "text/plain": [
       "                                           url  \\\n",
       "0   https://lenta.ru/news/1914/09/16/hungarnn/   \n",
       "1  https://lenta.ru/news/1914/09/16/lermontov/   \n",
       "2  https://lenta.ru/news/1914/09/17/nesteroff/   \n",
       "3   https://lenta.ru/news/1914/09/17/bulldogn/   \n",
       "4       https://lenta.ru/news/1914/09/18/zver/   \n",
       "\n",
       "                                                   title  \\\n",
       "0      1914. Русские войска вступили в пределы Венгрии     \n",
       "1  1914. Празднование столетия М.Ю. Лермонтова отложено    \n",
       "2                               1914. Das ist Nesteroff!   \n",
       "3                        1914. Бульдог-гонец под Льежем    \n",
       "4               1914. Под Люблином пойман швабский зверь   \n",
       "\n",
       "                                                                                                                                                                                                                                                                                                                                                                                                              text  \\\n",
       "0  Бои у Сопоцкина и Друскеник закончились отступлением германцев. Неприятель, приблизившись с севера к Осовцу начал артиллерийскую борьбу с крепостью. В артиллерийском бою принимают участие тяжелые калибры. С раннего утра 14 сентября огонь достиг значительного напряжения. Попытка германской пехоты пробиться ближе к крепости отражена. В Галиции мы заняли Дембицу. Большая колонна, отступавшая по ш...   \n",
       "1                                                      Министерство народного просвещения, в виду происходящих чрезвычайных событий, признало соответственным в день годовщины со дня рождения М.Ю. Лермонтова (2-го октября 1914 года) ограничиться совершением в учебных заведениях панихиды по поэту, отложив празднование юбилея до более благоприятного времени.  \\n«Русский инвалид», 16 сентября 1914 года.   \n",
       "2  Штабс-капитан П. Н. Нестеров на днях, увидев в районе Желтиева, в Галиции, летящий над нашим расположением австрийский аэроплан, собиравшийся бросить бомбы, взлетел на воздух, атаковал неприятеля и протаранил неприятельский аппарат, предотвратив жертвы в наших войсках. Сам Нестеров при этом погиб смертью героя. По словам доставленных в Киев пленных австрийских офицеров, всей неприятельской арм...   \n",
       "3  Фотограф-корреспондент Daily Mirror рассказывает случай, который порадует всех друзей животных. Лейтенант бельгийской артиллерии, руководивший обороной одного из фортов Льежа, ни за что не хотел расстаться с своей собакой — бульдогом. Когда пруссаки пробрались между фортов в самый город, офицеру пришло в голову доверить бульдогу письмо, в котором он посылал успокоительную весть своим родителям...   \n",
       "4  Лица, приехавшие в Варшаву из Люблина, передают, что туда доставлен «швабский зверь» — взятый в плен прусский майор Прейскер, бывший комендант Калиша. Это — здоровый детина, с типично прусским наглым лицом и мутными глазами. Когда этого «зверя» вели с партией пленных по улице и из толпы раздались крики и проклятия, Прейскер трусливо замешался в толпу пленных, стараясь скрыться. Зато в заключен...   \n",
       "\n",
       "        topic            tags        date  \n",
       "0  Библиотека  Первая мировая  1914/09/16  \n",
       "1  Библиотека  Первая мировая  1914/09/16  \n",
       "2  Библиотека  Первая мировая  1914/09/17  \n",
       "3  Библиотека  Первая мировая  1914/09/17  \n",
       "4  Библиотека  Первая мировая  1914/09/18  "
      ]
     },
     "execution_count": 3,
     "metadata": {},
     "output_type": "execute_result"
    }
   ],
   "source": [
    "data_lenta = pd.read_csv('/content/lenta-ru-news.csv')\n",
    "data_lenta.head()"
   ]
  },
  {
   "cell_type": "code",
   "execution_count": 4,
   "metadata": {
    "colab": {
     "base_uri": "https://localhost:8080/"
    },
    "id": "ytgYyg4a9-S-",
    "outputId": "bfc354da-b1c3-491c-9f82-0d95cd7f8484"
   },
   "outputs": [
    {
     "data": {
      "text/plain": [
       "(800975, 6)"
      ]
     },
     "execution_count": 4,
     "metadata": {},
     "output_type": "execute_result"
    }
   ],
   "source": [
    "data_lenta.shape"
   ]
  },
  {
   "cell_type": "code",
   "execution_count": 5,
   "metadata": {
    "colab": {
     "base_uri": "https://localhost:8080/"
    },
    "id": "5VDWvb_ALZ8J",
    "outputId": "9ce0c0ec-c711-4e67-c650-3575d8464734"
   },
   "outputs": [
    {
     "name": "stdout",
     "output_type": "stream",
     "text": [
      "<class 'pandas.core.frame.DataFrame'>\n",
      "RangeIndex: 800975 entries, 0 to 800974\n",
      "Data columns (total 6 columns):\n",
      " #   Column  Non-Null Count   Dtype \n",
      "---  ------  --------------   ----- \n",
      " 0   url     800975 non-null  object\n",
      " 1   title   800975 non-null  object\n",
      " 2   text    800970 non-null  object\n",
      " 3   topic   738973 non-null  object\n",
      " 4   tags    773756 non-null  object\n",
      " 5   date    800975 non-null  object\n",
      "dtypes: object(6)\n",
      "memory usage: 36.7+ MB\n"
     ]
    }
   ],
   "source": [
    "data_lenta.info()"
   ]
  },
  {
   "cell_type": "code",
   "execution_count": 6,
   "metadata": {
    "id": "5pTL0YfXNTNT"
   },
   "outputs": [],
   "source": [
    "data_lenta.dropna(subset=['text'], inplace=True)\n",
    "data_lenta.reset_index(inplace=True)"
   ]
  },
  {
   "cell_type": "code",
   "execution_count": 7,
   "metadata": {
    "id": "-YHERfOL9-ZO"
   },
   "outputs": [],
   "source": [
    "train, test = train_test_split(data_lenta[:10000], test_size=0.3)"
   ]
  },
  {
   "cell_type": "code",
   "execution_count": 8,
   "metadata": {
    "colab": {
     "base_uri": "https://localhost:8080/"
    },
    "id": "TO27fFj-DkrW",
    "outputId": "1de7454e-2b02-49f6-b986-1799a73c8e4b"
   },
   "outputs": [
    {
     "name": "stdout",
     "output_type": "stream",
     "text": [
      "Train dataset length: 7000\n",
      "Test dataset length: 3000\n"
     ]
    }
   ],
   "source": [
    "print('Train dataset length: ' + str(len(train)))\n",
    "print('Test dataset length: ' + str(len(test)))"
   ]
  },
  {
   "cell_type": "code",
   "execution_count": 9,
   "metadata": {
    "id": "MrTdp6R0HCB1"
   },
   "outputs": [],
   "source": [
    "max_len_sum = int(np.mean([len(data_lenta['text'][txt]) for txt in range(len(data_lenta))])/2.5)\n",
    "max_len_tl = int(np.mean([len(data_lenta['title'][txt]) for txt in range(len(data_lenta))]))"
   ]
  },
  {
   "cell_type": "code",
   "execution_count": 10,
   "metadata": {
    "colab": {
     "base_uri": "https://localhost:8080/"
    },
    "id": "GZ-lWZ90eRHT",
    "outputId": "6e69deae-5e3d-47ae-cf8b-bc37189373ea"
   },
   "outputs": [
    {
     "data": {
      "text/plain": [
       "532"
      ]
     },
     "execution_count": 10,
     "metadata": {},
     "output_type": "execute_result"
    }
   ],
   "source": [
    "max_len_sum"
   ]
  },
  {
   "cell_type": "code",
   "execution_count": 11,
   "metadata": {
    "colab": {
     "base_uri": "https://localhost:8080/"
    },
    "id": "hfEGYxEMeUSW",
    "outputId": "2f454b48-080a-4172-801d-4d705c8024b6"
   },
   "outputs": [
    {
     "data": {
      "text/plain": [
       "55"
      ]
     },
     "execution_count": 11,
     "metadata": {},
     "output_type": "execute_result"
    }
   ],
   "source": [
    "max_len_tl"
   ]
  },
  {
   "cell_type": "code",
   "execution_count": 83,
   "metadata": {
    "id": "IcZvXFYZUV3Y"
   },
   "outputs": [],
   "source": [
    "dataset_train = Dataset.from_pandas(train)\n",
    "dataset_test = Dataset.from_pandas(test)"
   ]
  },
  {
   "cell_type": "code",
   "execution_count": 13,
   "metadata": {
    "colab": {
     "base_uri": "https://localhost:8080/"
    },
    "id": "q4C0QwxhRpvy",
    "outputId": "30fd1320-dac8-4318-e95b-6103f8937312"
   },
   "outputs": [
    {
     "data": {
      "text/plain": [
       "Dataset({\n",
       "    features: ['index', 'url', 'title', 'text', 'topic', 'tags', 'date', '__index_level_0__'],\n",
       "    num_rows: 7000\n",
       "})"
      ]
     },
     "execution_count": 13,
     "metadata": {},
     "output_type": "execute_result"
    }
   ],
   "source": [
    "dataset_train"
   ]
  },
  {
   "cell_type": "code",
   "execution_count": 14,
   "metadata": {
    "colab": {
     "base_uri": "https://localhost:8080/"
    },
    "id": "ZrAfkhmOUumz",
    "outputId": "a55f0750-e772-40ca-ca5b-53865de6f3c3"
   },
   "outputs": [
    {
     "data": {
      "text/plain": [
       "Dataset({\n",
       "    features: ['index', 'url', 'title', 'text', 'topic', 'tags', 'date', '__index_level_0__'],\n",
       "    num_rows: 3000\n",
       "})"
      ]
     },
     "execution_count": 14,
     "metadata": {},
     "output_type": "execute_result"
    }
   ],
   "source": [
    "dataset_test"
   ]
  },
  {
   "cell_type": "code",
   "execution_count": 15,
   "metadata": {
    "id": "jccqgjinHrEn"
   },
   "outputs": [],
   "source": [
    "model_name = 'IlyaGusev/rut5_base_sum_gazeta'\n",
    "tokenizer = AutoTokenizer.from_pretrained(model_name)\n",
    "model = T5ForConditionalGeneration.from_pretrained(model_name)\n",
    "data_collator = DataCollatorForLanguageModeling(tokenizer=tokenizer, mlm=False)"
   ]
  },
  {
   "cell_type": "code",
   "execution_count": 84,
   "metadata": {
    "colab": {
     "base_uri": "https://localhost:8080/",
     "height": 81,
     "referenced_widgets": [
      "b04fbacc641446aa9c04722ffddd8a6f",
      "be451036662e40e1b64115d8ef2d5b79",
      "2b85a45d340a4904bad751c3f65ba6bd",
      "c8c31f4461a74441a30717cd0a50cc81",
      "8fcc7c84cbcb4efcb8c64b7f7da1558f",
      "512609f2453a4867b0c06b8b4cc21483",
      "bf4d1ce667fc4fd3ba0421431fec596b",
      "aefe737fd6944254a30002480b49ecca",
      "39251b418e994e7cba5210578ae8f49b",
      "228d7fcbc33d4885babeefd8a4928827",
      "88d44ab24fd04c6da1e0e8bcc5345f09",
      "c65746ae02d848c0b37662be6b1871d9",
      "0ae0864d6bef4e03b5217b80eb3d5f7c",
      "62c3b5be6feb43ba94ed2d0d37691a71",
      "b5c9ddea0f1b4edc996dd3213b408edf",
      "da11d86a65754489af5959b40ed32851",
      "e3c9e60cca9d4ea29d92c01237cfc49b",
      "0245c38bc4a34ab08dbe1cfc9252cb0a",
      "e9d3b5b428d84fefbb1a364deca9c80a",
      "2f87f831052e47cbb9f6763d18d421e6",
      "cf3bc696434842a294e0b4a9215d919e",
      "bc4634e0c47847d18150f3185a790fac"
     ]
    },
    "id": "k3rUej6ZgSie",
    "outputId": "4d068cd9-a25c-45ea-a450-6398c3ae9cc5"
   },
   "outputs": [
    {
     "data": {
      "application/vnd.jupyter.widget-view+json": {
       "model_id": "b04fbacc641446aa9c04722ffddd8a6f",
       "version_major": 2,
       "version_minor": 0
      },
      "text/plain": [
       "  0%|          | 0/875 [00:00<?, ?ba/s]"
      ]
     },
     "metadata": {},
     "output_type": "display_data"
    },
    {
     "data": {
      "application/vnd.jupyter.widget-view+json": {
       "model_id": "c65746ae02d848c0b37662be6b1871d9",
       "version_major": 2,
       "version_minor": 0
      },
      "text/plain": [
       "  0%|          | 0/375 [00:00<?, ?ba/s]"
      ]
     },
     "metadata": {},
     "output_type": "display_data"
    }
   ],
   "source": [
    "def tokenize(batch):\n",
    "    tokenized_input = tokenizer(batch['text'], batch['title'], padding='max_length', truncation=True, max_length=max_len_sum)\n",
    "    # tokenized_label = tokenizer(batch['title'], padding='max_length', truncation=True, max_length=max_len_tl)\n",
    "\n",
    "    # tokenized_input['labels'] = tokenized_label['input_ids']\n",
    "\n",
    "    return tokenized_input\n",
    "\n",
    "dataset_train = dataset_train.map(tokenize, batched=True, batch_size=8)\n",
    "dataset_test = dataset_test.map(tokenize, batched=True, batch_size=8)\n",
    "\n",
    "dataset_train = dataset_train.remove_columns(['index', 'url', 'title', 'text', 'topic', 'tags', 'date', '__index_level_0__'])\n",
    "dataset_test = dataset_test.remove_columns(['index', 'url', 'title', 'text', 'topic', 'tags', 'date', '__index_level_0__'])"
   ]
  },
  {
   "cell_type": "code",
   "execution_count": 85,
   "metadata": {
    "colab": {
     "base_uri": "https://localhost:8080/"
    },
    "id": "SBYO0Xxx-lHo",
    "outputId": "8d6a70bf-5304-4f6f-9e98-b3ca1436ebb0"
   },
   "outputs": [
    {
     "data": {
      "text/plain": [
       "Dataset({\n",
       "    features: ['input_ids', 'attention_mask'],\n",
       "    num_rows: 7000\n",
       "})"
      ]
     },
     "execution_count": 85,
     "metadata": {},
     "output_type": "execute_result"
    }
   ],
   "source": [
    "dataset_train"
   ]
  },
  {
   "cell_type": "code",
   "execution_count": 18,
   "metadata": {
    "id": "svsjfMBrHrHb"
   },
   "outputs": [],
   "source": [
    "dataset_train.save_to_disk('./')\n",
    "dataset_test.save_to_disk('./')"
   ]
  },
  {
   "cell_type": "code",
   "execution_count": 19,
   "metadata": {
    "colab": {
     "base_uri": "https://localhost:8080/"
    },
    "id": "Z4on2ovQer_j",
    "outputId": "190158d9-e68a-49ec-96b7-71de1eed6688"
   },
   "outputs": [
    {
     "data": {
      "text/plain": [
       "244309248"
      ]
     },
     "execution_count": 19,
     "metadata": {},
     "output_type": "execute_result"
    }
   ],
   "source": [
    "model.num_parameters()"
   ]
  },
  {
   "cell_type": "code",
   "execution_count": 86,
   "metadata": {
    "colab": {
     "base_uri": "https://localhost:8080/"
    },
    "id": "bBR5e0YlHrNL",
    "outputId": "02df2617-277b-4745-a97b-ad707fd81574"
   },
   "outputs": [
    {
     "name": "stderr",
     "output_type": "stream",
     "text": [
      "PyTorch: setting up devices\n"
     ]
    }
   ],
   "source": [
    "output_dir = 'lenta/output'\n",
    "\n",
    "training_args = TrainingArguments(\n",
    "    output_dir=output_dir,\n",
    "    num_train_epochs=1,\n",
    "    per_device_train_batch_size=2,\n",
    "    per_device_eval_batch_size=2,\n",
    "    eval_accumulation_steps=1, # Number of eval steps to keep in GPU (the higher, the mor vRAM used)\n",
    "    prediction_loss_only=True, # If I need co compute only loss and not other metrics, setting this to true will use less RAM\n",
    "    learning_rate=0.001,\n",
    "    evaluation_strategy='steps', # Run evaluation every eval_steps,\n",
    "    # save_strategy='epoch',\n",
    "    save_steps=500, # How often to save a checkpoint\n",
    "    save_total_limit=1, # Number of maximum checkpoints to save\n",
    "    remove_unused_columns=True, # Removes useless columns from the dataset\n",
    "    # run_name='run_gazeta', # Wandb run name\n",
    "    logging_steps=500, # How often to log loss to wandb\n",
    "    eval_steps=500, # How often to run evaluation on the val_set\n",
    "    logging_first_step=False, # Whether to log also the very first training step to wandb\n",
    "    load_best_model_at_end=True, # Whether to load the best model found at each evaluation.\n",
    "    metric_for_best_model='loss', # Use loss to evaluate best model.\n",
    "    greater_is_better=False, # Best model is the one with the lowest loss, not highest.\n",
    "    report_to='all',\n",
    "    optim = 'adamw_torch',\n",
    "    max_steps=500\n",
    ")"
   ]
  },
  {
   "cell_type": "code",
   "execution_count": 87,
   "metadata": {
    "colab": {
     "base_uri": "https://localhost:8080/"
    },
    "id": "up7kJkBLGMxm",
    "outputId": "f597db81-78e0-4199-c151-cd69ce877220"
   },
   "outputs": [
    {
     "data": {
      "text/plain": [
       "361"
      ]
     },
     "execution_count": 87,
     "metadata": {},
     "output_type": "execute_result"
    }
   ],
   "source": [
    "gc.collect()"
   ]
  },
  {
   "cell_type": "code",
   "execution_count": 88,
   "metadata": {
    "colab": {
     "base_uri": "https://localhost:8080/",
     "height": 471
    },
    "id": "oevm8IigHCJo",
    "outputId": "ac7cc448-1c70-47ce-f4ac-ce35d76baaf0"
   },
   "outputs": [
    {
     "name": "stderr",
     "output_type": "stream",
     "text": [
      "max_steps is given, it will override any value given in num_train_epochs\n",
      "***** Running training *****\n",
      "  Num examples = 7000\n",
      "  Num Epochs = 1\n",
      "  Instantaneous batch size per device = 2\n",
      "  Total train batch size (w. parallel, distributed & accumulation) = 2\n",
      "  Gradient Accumulation steps = 1\n",
      "  Total optimization steps = 500\n"
     ]
    },
    {
     "data": {
      "text/html": [
       "\n",
       "    <div>\n",
       "      \n",
       "      <progress value='500' max='500' style='width:300px; height:20px; vertical-align: middle;'></progress>\n",
       "      [500/500 12:30, Epoch 0/1]\n",
       "    </div>\n",
       "    <table border=\"1\" class=\"dataframe\">\n",
       "  <thead>\n",
       " <tr style=\"text-align: left;\">\n",
       "      <th>Step</th>\n",
       "      <th>Training Loss</th>\n",
       "      <th>Validation Loss</th>\n",
       "    </tr>\n",
       "  </thead>\n",
       "  <tbody>\n",
       "    <tr>\n",
       "      <td>500</td>\n",
       "      <td>0.033400</td>\n",
       "      <td>0.001130</td>\n",
       "    </tr>\n",
       "  </tbody>\n",
       "</table><p>"
      ],
      "text/plain": [
       "<IPython.core.display.HTML object>"
      ]
     },
     "metadata": {},
     "output_type": "display_data"
    },
    {
     "name": "stderr",
     "output_type": "stream",
     "text": [
      "***** Running Evaluation *****\n",
      "  Num examples = 3000\n",
      "  Batch size = 2\n",
      "Saving model checkpoint to lenta/output/checkpoint-500\n",
      "Configuration saved in lenta/output/checkpoint-500/config.json\n",
      "Model weights saved in lenta/output/checkpoint-500/pytorch_model.bin\n",
      "\n",
      "\n",
      "Training completed. Do not forget to share your model on huggingface.co/models =)\n",
      "\n",
      "\n",
      "Loading best model from lenta/output/checkpoint-500 (score: 0.0011304415529593825).\n"
     ]
    },
    {
     "data": {
      "text/plain": [
       "TrainOutput(global_step=500, training_loss=0.03335163497924805, metrics={'train_runtime': 751.7238, 'train_samples_per_second': 1.33, 'train_steps_per_second': 0.665, 'total_flos': 706288988160000.0, 'train_loss': 0.03335163497924805, 'epoch': 0.14})"
      ]
     },
     "execution_count": 88,
     "metadata": {},
     "output_type": "execute_result"
    }
   ],
   "source": [
    "trainer = Trainer(\n",
    "    model=model,\n",
    "    args=training_args,\n",
    "    train_dataset=dataset_train,\n",
    "    eval_dataset=dataset_test,\n",
    "    data_collator=data_collator\n",
    ")\n",
    "\n",
    "trainer.train()"
   ]
  },
  {
   "cell_type": "code",
   "execution_count": 29,
   "metadata": {
    "colab": {
     "base_uri": "https://localhost:8080/"
    },
    "id": "RdxptZMnbDyH",
    "outputId": "f518caf4-8e3a-4aeb-b0c8-17a69d8b14d8"
   },
   "outputs": [
    {
     "name": "stderr",
     "output_type": "stream",
     "text": [
      "Saving model checkpoint to lenta/output/model\n",
      "Configuration saved in lenta/output/model/config.json\n",
      "Model weights saved in lenta/output/model/pytorch_model.bin\n"
     ]
    }
   ],
   "source": [
    "trainer.save_model(output_dir + '/model')"
   ]
  },
  {
   "cell_type": "code",
   "execution_count": 34,
   "metadata": {
    "id": "AShG1m5sbQa0"
   },
   "outputs": [],
   "source": [
    "device = 'cuda'"
   ]
  },
  {
   "cell_type": "code",
   "execution_count": 89,
   "metadata": {
    "id": "L-DuuBlJbD4W"
   },
   "outputs": [],
   "source": [
    "def title_generate(text_index):\n",
    "\n",
    "    input_text = test['text'][text_index]\n",
    "\n",
    "    with torch.no_grad():\n",
    "        tokenized_text = tokenizer(input_text, truncation=True, padding=True, return_tensors='pt')\n",
    "\n",
    "        source_ids = tokenized_text['input_ids'].to(device, dtype = torch.long)\n",
    "        source_mask = tokenized_text['attention_mask'].to(device, dtype = torch.long)\n",
    "\n",
    "        generated_ids = model.generate(\n",
    "            input_ids=source_ids,\n",
    "            attention_mask=source_mask, \n",
    "            max_length=20,\n",
    "            num_beams=10,\n",
    "            # temperature = 1.3,\n",
    "            repetition_penalty=1., \n",
    "            length_penalty=2, \n",
    "            early_stopping=True,\n",
    "            no_repeat_ngram_size=1\n",
    "        )\n",
    "\n",
    "        pred = tokenizer.decode(generated_ids[0], skip_special_tokens=True, clean_up_tokenization_spaces=True)\n",
    "        print(f\"PREDICTION: {pred}\")"
   ]
  },
  {
   "cell_type": "code",
   "execution_count": 91,
   "metadata": {
    "colab": {
     "base_uri": "https://localhost:8080/"
    },
    "id": "WTXj3HGBh0HZ",
    "outputId": "1eb42648-e990-406e-9576-9f0e73c1cc5a"
   },
   "outputs": [
    {
     "name": "stdout",
     "output_type": "stream",
     "text": [
      "TEXT: Испанская \"Валенсия\" сотворила очередную сенсацию нынешнего розыгрыша Лиги Чемпионов. Подопечные Эктора Купера обыграли по сумме двух матчей знаменитую \"Барселону\" и вышли в финал. Впрочем, уже после первой полуфинальной игры сомнений в конечном успехе \"Валенсии\" не было, ведь первый матч она выиграла (4:1). В ответном матче \"Барселона\" с первых минут начала осаждать ворота гостей. Однако реальных угроз каталонцы не создавали, хотя несколько раз голкиперу \"Валенсии\" приходилось вступать в игру. Первый тайм закончился нулевой ничьей. Вторая половина игры началась с атак футболистов \"Валенсии\", которые могли забить как минимум два мяча. \"Барселона\" ответила атакой, во время которой арбитр матча вполне мог назначить пенальти: в штрафной \"Валенсии\" явно сбили Ривалдо. Однако свисток судьи молчал, а через пару минут Мендьетта точным ударом лишил \"Барсу\" последних надежд. В оставшееся время Рональд де Бур и Филипп Коку забили в ворота \"Валенсии\" два мяча и принесли хозяевам победу (2:1). Однако, это не изменило главного: в финал Лиги Чемпионов вышла \"Валенсия\", которая 24 мая в Париже сыграет с мадридским \"Реалом\".\n",
      "TITLE: Вторым финалистом Лиги Чемпионов стала \"Валенсия\"\n",
      "PREDICTION: Испанская \"Валенсия\" сотворила весьего розыгрыша Лиги\n"
     ]
    }
   ],
   "source": [
    "INX = 7471\n",
    "print(f\"TEXT: {test['text'][INX]}\")\n",
    "print(f\"TITLE: {test['title'][INX]}\")\n",
    "title_generate(INX)"
   ]
  },
  {
   "cell_type": "code",
   "execution_count": 92,
   "metadata": {
    "colab": {
     "base_uri": "https://localhost:8080/"
    },
    "id": "Amk_Nl8rAjTZ",
    "outputId": "c8cd2a77-f0b6-4e5c-a4d7-898862ceb07e"
   },
   "outputs": [
    {
     "name": "stdout",
     "output_type": "stream",
     "text": [
      "TEXT: Компания Amazon.com объявила в среду, что больше не будет продавать своим клиентам из Германии издание Mein Kampf, сообщает Washington Post. Это решение связано с жалобой немецкой антинацистской организации Simon Wiesenthal Center и немецких властей, направленной в Amazon.com некоторое время назад. Издание Mein Kampf на немецком языке в Германии запрещено. До сих пор немецкие покупатели могли заказать в Amazon.com только англоязычную версию книги, так как статус английского перевода книги в Германии остается не вполне ясным. Решение руководства крупнейшего онлайнового книжного магазина вообще прекратить продавать Mein Kampf немцам было встречено представителями правительственных и общественных организаций Германии с восторгом. Между тем, основной конкурент Amazon.com - книжный магазин Barnes & Noble Inc., также продающий Mein Kampf своим клиентам, в том числе из Германии, не собирается прекращать продажи, поскольку не считает их незаконными. Представители Simon Wiesenthal Center, кроме того, пожаловались руководству Amazon.com, что клиентам, покупающим Mein Kampf, вскоре после покупки приходит письмо из Amazon.com, где говорится, что если клиент купил Mein Kampf, вероятно, он захочет также купить книгу Джорджа Линкольна Роквелла, американского нациста. Руководство Amazon.com пояснило, что такие письма генерируются автоматически и для Mein Kampf отменены. По мнению некоторых юристов, Mein Kampf может продаваться в Германии в аннотированной форме - как исторический документ с научными комментариями. Как сообщает Washington Post, представитель Amazon.com на вопрос, будут ли они продавать Mein Kampf в таком издании, ответил, что компания не хочет дополнительных проблем на свою голову.\n",
      "TITLE: Amazon.com больше не продает Mein Kampf жителям Германии\n",
      "PREDICTION: (Компания Amazon.com объявила в среду, что больше не будет продавать сво\n"
     ]
    }
   ],
   "source": [
    "INX = 1869\n",
    "print(f\"TEXT: {test['text'][INX]}\")\n",
    "print(f\"TITLE: {test['title'][INX]}\")\n",
    "title_generate(INX)"
   ]
  },
  {
   "cell_type": "code",
   "execution_count": 93,
   "metadata": {
    "colab": {
     "base_uri": "https://localhost:8080/"
    },
    "id": "glTkbmRdAjWp",
    "outputId": "4a274656-0750-4eca-8f98-be9e6a0bccd3"
   },
   "outputs": [
    {
     "name": "stdout",
     "output_type": "stream",
     "text": [
      "TEXT: Россия поставит Индии 40 вертолетов Ми-17-1В. Контракт на их поставку подписан в четверг в Дели между внешнеторговым объединением \"Авиаэкспорт\" и оборонным ведомством Индии, сообщает РИА \"Новости. Общая сумма сделки составляет 170 миллионов долларов. Одновременно подписан контракт c российским объединением \"Промэкспорт\", которое доработает вертолеты для их использования в военно-транспортном варианте. В минобороне Индии отметили, что контракт на приобретение 40 вертолетов МИ-17 по своей значимости стоит сразу после подписанного в 1996 году масштабного соглашения о продаже Индии военных самолетов Су-30. Поставка вертолетов, выпускаемых Казанским вертолетным заводом, будет осуществляться партиями в течение 13 месяцев. К настоящему времени уже подготовлена первая партия из четырех машин. Они будут отправлены заказчику сразу после предоплаты индийской стороной контракта. МИ-17 являются модификацией МИ-8, вертолеты имеют потолок в пять километров и могут использоваться в условиях высокогорной местности. В США аналогичный тип машин будет производиться только в 2001 году. В выполнении индийского заказа будут участвовать, в общей сложности, около 300 предприятий, на которых занято 700 тысяч человек.\n",
      "TITLE: Россия поставит Индии 40 вертолетов\n",
      "PREDICTION: Россия поставит Индии 40 вертолетов Ми-17-1В. Одновременно подписан контракт\n"
     ]
    }
   ],
   "source": [
    "INX = 8139\n",
    "print(f\"TEXT: {test['text'][INX]}\")\n",
    "print(f\"TITLE: {test['title'][INX]}\")\n",
    "title_generate(INX)"
   ]
  },
  {
   "cell_type": "code",
   "execution_count": 94,
   "metadata": {
    "colab": {
     "base_uri": "https://localhost:8080/"
    },
    "id": "6Qm5eC3nAjae",
    "outputId": "e9047356-3c24-43a1-bc19-2bbdd86aab3b"
   },
   "outputs": [
    {
     "name": "stdout",
     "output_type": "stream",
     "text": [
      "TEXT: В субботу в Москве открылось заседание политсовета общероссийского политического общественного движения \"Единство\". Открыл заседание лидер движения \"Единство\", вице-премьер правительства РФ Сергей Шойгу, который заявил о необходимости реформирования возглавляемого им движения. На заседании было принято решение о преобразовании движения вполитическую партию и проведении учредительного съезда 27 мая, сообщает РИА \"Новости\". \"За последние месяцы в политической жизни страны произошли серьезные изменения - Россия выбрала нового президента, новую Государственную думу, а по итогам прошедших выборов в стране появилась по-настоящему новая власть\", - говорится в заявлении политсовета. В документе отмечается, что \"России нужна партия будущего, партия общенародного единства, в противовес партиям прошлого. Такая партия должна стать одной из основ новой политической системы\". Политсовет движения считает, что \"Единство\" может стать именно такой партией. C докладом о мероприятиях по подготовке к проведению второго съезда движения выступил первый заместитель лидера движения \"Единство\", глава одноименной фракции в Госдуме Борис Грызлов. Он заявил, что \"Единство\" должно не на словах, а на деле стать \"партией власти\" и опираться на главу государства, который, в свою очередь, должен заявить о поддержке этого политического объединения. Грызлов отметил негативный пример ряда политических движений,которые в разное время именовались \"партиями власти\" -\"Демвыбор России\", ПРЕСС и \"Наш дом - Россия\". Он подчеркнул, что эти движения не смогли стать полноценными партиями, потому что опирались исключительно на административный ресурс своих лидеров. Грызлов считает, что движение необходимо очистить от тех,кто \"решил к нему прислониться, как к партии власти\". По егословам, автоматической перерегистрации членов движения приформировании на его основе политической партии не будет. Лидеры движения также постановили, что учредительный съезд общественного движения \"Молодежное единство\" пройдет 27 апреля.\n",
      "TITLE: \"Единство\" преобразуется в \"партию власти\"\n",
      "PREDICTION: В субботу в Москве открылось заседание политсовета общероссийского общественного движени\n"
     ]
    }
   ],
   "source": [
    "INX = 6865\n",
    "print(f\"TEXT: {test['text'][INX]}\")\n",
    "print(f\"TITLE: {test['title'][INX]}\")\n",
    "title_generate(INX)"
   ]
  },
  {
   "cell_type": "code",
   "execution_count": 95,
   "metadata": {
    "colab": {
     "base_uri": "https://localhost:8080/"
    },
    "id": "8qKTT9mcAjeG",
    "outputId": "343ace7d-c5b2-4961-942e-f596c914fe65"
   },
   "outputs": [
    {
     "name": "stdout",
     "output_type": "stream",
     "text": [
      "TEXT: В среду в Берлине открылся общий комплекс посольств пяти северных стран. Как передает РИА \"Новости\", на торжестве присутствовали три королевские пары из Дании, Швеции и Норвегии, а также главы Финляндии и Исландии. Строительство облицованного медными листами комплекса длилось два года и обошлось в 100 миллионов марок.Теперь посольства имеют общее клубное помещение, столовую и зеленый дворик в историческом дипломатическом квартале Берлина, расположенном недалеко от Бранденбургских ворот. Со стороны Германии на открытии Северного дипломатического  комплекса присутствовали президент Йоханнес Рау и министр иностранных дел Йошка Фишер.\n",
      "TITLE: В Берлине открылся Северный дипломатический комплекс\n",
      "PREDICTION: В среду в Берлине открылся общий комплекс посольств пяти северных стран.\n"
     ]
    }
   ],
   "source": [
    "INX = 1036\n",
    "print(f\"TEXT: {test['text'][INX]}\")\n",
    "print(f\"TITLE: {test['title'][INX]}\")\n",
    "title_generate(INX)"
   ]
  }
 ],
 "metadata": {
  "accelerator": "GPU",
  "colab": {
   "collapsed_sections": [],
   "provenance": []
  },
  "kernelspec": {
   "display_name": "Python 3 (ipykernel)",
   "language": "python",
   "name": "python3"
  },
  "language_info": {
   "codemirror_mode": {
    "name": "ipython",
    "version": 3
   },
   "file_extension": ".py",
   "mimetype": "text/x-python",
   "name": "python",
   "nbconvert_exporter": "python",
   "pygments_lexer": "ipython3",
   "version": "3.9.7"
  },
  "widgets": {
   "application/vnd.jupyter.widget-state+json": {
    "0245c38bc4a34ab08dbe1cfc9252cb0a": {
     "model_module": "@jupyter-widgets/controls",
     "model_module_version": "1.5.0",
     "model_name": "DescriptionStyleModel",
     "state": {
      "_model_module": "@jupyter-widgets/controls",
      "_model_module_version": "1.5.0",
      "_model_name": "DescriptionStyleModel",
      "_view_count": null,
      "_view_module": "@jupyter-widgets/base",
      "_view_module_version": "1.2.0",
      "_view_name": "StyleView",
      "description_width": ""
     }
    },
    "067dd29df2a04ba79a492c1273ffc9ba": {
     "model_module": "@jupyter-widgets/controls",
     "model_module_version": "1.5.0",
     "model_name": "DescriptionStyleModel",
     "state": {
      "_model_module": "@jupyter-widgets/controls",
      "_model_module_version": "1.5.0",
      "_model_name": "DescriptionStyleModel",
      "_view_count": null,
      "_view_module": "@jupyter-widgets/base",
      "_view_module_version": "1.2.0",
      "_view_name": "StyleView",
      "description_width": ""
     }
    },
    "0ae0864d6bef4e03b5217b80eb3d5f7c": {
     "model_module": "@jupyter-widgets/controls",
     "model_module_version": "1.5.0",
     "model_name": "HTMLModel",
     "state": {
      "_dom_classes": [],
      "_model_module": "@jupyter-widgets/controls",
      "_model_module_version": "1.5.0",
      "_model_name": "HTMLModel",
      "_view_count": null,
      "_view_module": "@jupyter-widgets/controls",
      "_view_module_version": "1.5.0",
      "_view_name": "HTMLView",
      "description": "",
      "description_tooltip": null,
      "layout": "IPY_MODEL_e3c9e60cca9d4ea29d92c01237cfc49b",
      "placeholder": "​",
      "style": "IPY_MODEL_0245c38bc4a34ab08dbe1cfc9252cb0a",
      "value": "100%"
     }
    },
    "12ecee6552ee4d5bad53bc82dc700b6c": {
     "model_module": "@jupyter-widgets/base",
     "model_module_version": "1.2.0",
     "model_name": "LayoutModel",
     "state": {
      "_model_module": "@jupyter-widgets/base",
      "_model_module_version": "1.2.0",
      "_model_name": "LayoutModel",
      "_view_count": null,
      "_view_module": "@jupyter-widgets/base",
      "_view_module_version": "1.2.0",
      "_view_name": "LayoutView",
      "align_content": null,
      "align_items": null,
      "align_self": null,
      "border": null,
      "bottom": null,
      "display": null,
      "flex": null,
      "flex_flow": null,
      "grid_area": null,
      "grid_auto_columns": null,
      "grid_auto_flow": null,
      "grid_auto_rows": null,
      "grid_column": null,
      "grid_gap": null,
      "grid_row": null,
      "grid_template_areas": null,
      "grid_template_columns": null,
      "grid_template_rows": null,
      "height": null,
      "justify_content": null,
      "justify_items": null,
      "left": null,
      "margin": null,
      "max_height": null,
      "max_width": null,
      "min_height": null,
      "min_width": null,
      "object_fit": null,
      "object_position": null,
      "order": null,
      "overflow": null,
      "overflow_x": null,
      "overflow_y": null,
      "padding": null,
      "right": null,
      "top": null,
      "visibility": null,
      "width": null
     }
    },
    "16e0d4e5594040d0be34a2a1c8d4d4f8": {
     "model_module": "@jupyter-widgets/controls",
     "model_module_version": "1.5.0",
     "model_name": "FloatProgressModel",
     "state": {
      "_dom_classes": [],
      "_model_module": "@jupyter-widgets/controls",
      "_model_module_version": "1.5.0",
      "_model_name": "FloatProgressModel",
      "_view_count": null,
      "_view_module": "@jupyter-widgets/controls",
      "_view_module_version": "1.5.0",
      "_view_name": "ProgressView",
      "bar_style": "success",
      "description": "",
      "description_tooltip": null,
      "layout": "IPY_MODEL_c1d66527486647bbb6c9c04b0035061c",
      "max": 1,
      "min": 0,
      "orientation": "horizontal",
      "style": "IPY_MODEL_a95cd368f87b493284458ca7c1484e8f",
      "value": 0
     }
    },
    "228d7fcbc33d4885babeefd8a4928827": {
     "model_module": "@jupyter-widgets/base",
     "model_module_version": "1.2.0",
     "model_name": "LayoutModel",
     "state": {
      "_model_module": "@jupyter-widgets/base",
      "_model_module_version": "1.2.0",
      "_model_name": "LayoutModel",
      "_view_count": null,
      "_view_module": "@jupyter-widgets/base",
      "_view_module_version": "1.2.0",
      "_view_name": "LayoutView",
      "align_content": null,
      "align_items": null,
      "align_self": null,
      "border": null,
      "bottom": null,
      "display": null,
      "flex": null,
      "flex_flow": null,
      "grid_area": null,
      "grid_auto_columns": null,
      "grid_auto_flow": null,
      "grid_auto_rows": null,
      "grid_column": null,
      "grid_gap": null,
      "grid_row": null,
      "grid_template_areas": null,
      "grid_template_columns": null,
      "grid_template_rows": null,
      "height": null,
      "justify_content": null,
      "justify_items": null,
      "left": null,
      "margin": null,
      "max_height": null,
      "max_width": null,
      "min_height": null,
      "min_width": null,
      "object_fit": null,
      "object_position": null,
      "order": null,
      "overflow": null,
      "overflow_x": null,
      "overflow_y": null,
      "padding": null,
      "right": null,
      "top": null,
      "visibility": null,
      "width": null
     }
    },
    "2b85a45d340a4904bad751c3f65ba6bd": {
     "model_module": "@jupyter-widgets/controls",
     "model_module_version": "1.5.0",
     "model_name": "FloatProgressModel",
     "state": {
      "_dom_classes": [],
      "_model_module": "@jupyter-widgets/controls",
      "_model_module_version": "1.5.0",
      "_model_name": "FloatProgressModel",
      "_view_count": null,
      "_view_module": "@jupyter-widgets/controls",
      "_view_module_version": "1.5.0",
      "_view_name": "ProgressView",
      "bar_style": "success",
      "description": "",
      "description_tooltip": null,
      "layout": "IPY_MODEL_aefe737fd6944254a30002480b49ecca",
      "max": 875,
      "min": 0,
      "orientation": "horizontal",
      "style": "IPY_MODEL_39251b418e994e7cba5210578ae8f49b",
      "value": 875
     }
    },
    "2f87f831052e47cbb9f6763d18d421e6": {
     "model_module": "@jupyter-widgets/controls",
     "model_module_version": "1.5.0",
     "model_name": "ProgressStyleModel",
     "state": {
      "_model_module": "@jupyter-widgets/controls",
      "_model_module_version": "1.5.0",
      "_model_name": "ProgressStyleModel",
      "_view_count": null,
      "_view_module": "@jupyter-widgets/base",
      "_view_module_version": "1.2.0",
      "_view_name": "StyleView",
      "bar_color": null,
      "description_width": ""
     }
    },
    "39251b418e994e7cba5210578ae8f49b": {
     "model_module": "@jupyter-widgets/controls",
     "model_module_version": "1.5.0",
     "model_name": "ProgressStyleModel",
     "state": {
      "_model_module": "@jupyter-widgets/controls",
      "_model_module_version": "1.5.0",
      "_model_name": "ProgressStyleModel",
      "_view_count": null,
      "_view_module": "@jupyter-widgets/base",
      "_view_module_version": "1.2.0",
      "_view_name": "StyleView",
      "bar_color": null,
      "description_width": ""
     }
    },
    "4837ce0c652e43b1abc6e015da0d1de8": {
     "model_module": "@jupyter-widgets/controls",
     "model_module_version": "1.5.0",
     "model_name": "HBoxModel",
     "state": {
      "_dom_classes": [],
      "_model_module": "@jupyter-widgets/controls",
      "_model_module_version": "1.5.0",
      "_model_name": "HBoxModel",
      "_view_count": null,
      "_view_module": "@jupyter-widgets/controls",
      "_view_module_version": "1.5.0",
      "_view_name": "HBoxView",
      "box_style": "",
      "children": [
       "IPY_MODEL_8d2886051f3c4406a6f841c039621fcb",
       "IPY_MODEL_16e0d4e5594040d0be34a2a1c8d4d4f8",
       "IPY_MODEL_c3987b61312d4bca9b963beb49cf3c93"
      ],
      "layout": "IPY_MODEL_8214d10964214601ba0a61803d4e9262"
     }
    },
    "512609f2453a4867b0c06b8b4cc21483": {
     "model_module": "@jupyter-widgets/base",
     "model_module_version": "1.2.0",
     "model_name": "LayoutModel",
     "state": {
      "_model_module": "@jupyter-widgets/base",
      "_model_module_version": "1.2.0",
      "_model_name": "LayoutModel",
      "_view_count": null,
      "_view_module": "@jupyter-widgets/base",
      "_view_module_version": "1.2.0",
      "_view_name": "LayoutView",
      "align_content": null,
      "align_items": null,
      "align_self": null,
      "border": null,
      "bottom": null,
      "display": null,
      "flex": null,
      "flex_flow": null,
      "grid_area": null,
      "grid_auto_columns": null,
      "grid_auto_flow": null,
      "grid_auto_rows": null,
      "grid_column": null,
      "grid_gap": null,
      "grid_row": null,
      "grid_template_areas": null,
      "grid_template_columns": null,
      "grid_template_rows": null,
      "height": null,
      "justify_content": null,
      "justify_items": null,
      "left": null,
      "margin": null,
      "max_height": null,
      "max_width": null,
      "min_height": null,
      "min_width": null,
      "object_fit": null,
      "object_position": null,
      "order": null,
      "overflow": null,
      "overflow_x": null,
      "overflow_y": null,
      "padding": null,
      "right": null,
      "top": null,
      "visibility": null,
      "width": null
     }
    },
    "62c3b5be6feb43ba94ed2d0d37691a71": {
     "model_module": "@jupyter-widgets/controls",
     "model_module_version": "1.5.0",
     "model_name": "FloatProgressModel",
     "state": {
      "_dom_classes": [],
      "_model_module": "@jupyter-widgets/controls",
      "_model_module_version": "1.5.0",
      "_model_name": "FloatProgressModel",
      "_view_count": null,
      "_view_module": "@jupyter-widgets/controls",
      "_view_module_version": "1.5.0",
      "_view_name": "ProgressView",
      "bar_style": "success",
      "description": "",
      "description_tooltip": null,
      "layout": "IPY_MODEL_e9d3b5b428d84fefbb1a364deca9c80a",
      "max": 375,
      "min": 0,
      "orientation": "horizontal",
      "style": "IPY_MODEL_2f87f831052e47cbb9f6763d18d421e6",
      "value": 375
     }
    },
    "8214d10964214601ba0a61803d4e9262": {
     "model_module": "@jupyter-widgets/base",
     "model_module_version": "1.2.0",
     "model_name": "LayoutModel",
     "state": {
      "_model_module": "@jupyter-widgets/base",
      "_model_module_version": "1.2.0",
      "_model_name": "LayoutModel",
      "_view_count": null,
      "_view_module": "@jupyter-widgets/base",
      "_view_module_version": "1.2.0",
      "_view_name": "LayoutView",
      "align_content": null,
      "align_items": null,
      "align_self": null,
      "border": null,
      "bottom": null,
      "display": null,
      "flex": null,
      "flex_flow": null,
      "grid_area": null,
      "grid_auto_columns": null,
      "grid_auto_flow": null,
      "grid_auto_rows": null,
      "grid_column": null,
      "grid_gap": null,
      "grid_row": null,
      "grid_template_areas": null,
      "grid_template_columns": null,
      "grid_template_rows": null,
      "height": null,
      "justify_content": null,
      "justify_items": null,
      "left": null,
      "margin": null,
      "max_height": null,
      "max_width": null,
      "min_height": null,
      "min_width": null,
      "object_fit": null,
      "object_position": null,
      "order": null,
      "overflow": null,
      "overflow_x": null,
      "overflow_y": null,
      "padding": null,
      "right": null,
      "top": null,
      "visibility": null,
      "width": null
     }
    },
    "88d44ab24fd04c6da1e0e8bcc5345f09": {
     "model_module": "@jupyter-widgets/controls",
     "model_module_version": "1.5.0",
     "model_name": "DescriptionStyleModel",
     "state": {
      "_model_module": "@jupyter-widgets/controls",
      "_model_module_version": "1.5.0",
      "_model_name": "DescriptionStyleModel",
      "_view_count": null,
      "_view_module": "@jupyter-widgets/base",
      "_view_module_version": "1.2.0",
      "_view_name": "StyleView",
      "description_width": ""
     }
    },
    "8d2886051f3c4406a6f841c039621fcb": {
     "model_module": "@jupyter-widgets/controls",
     "model_module_version": "1.5.0",
     "model_name": "HTMLModel",
     "state": {
      "_dom_classes": [],
      "_model_module": "@jupyter-widgets/controls",
      "_model_module_version": "1.5.0",
      "_model_name": "HTMLModel",
      "_view_count": null,
      "_view_module": "@jupyter-widgets/controls",
      "_view_module_version": "1.5.0",
      "_view_name": "HTMLView",
      "description": "",
      "description_tooltip": null,
      "layout": "IPY_MODEL_12ecee6552ee4d5bad53bc82dc700b6c",
      "placeholder": "​",
      "style": "IPY_MODEL_067dd29df2a04ba79a492c1273ffc9ba",
      "value": ""
     }
    },
    "8fcc7c84cbcb4efcb8c64b7f7da1558f": {
     "model_module": "@jupyter-widgets/base",
     "model_module_version": "1.2.0",
     "model_name": "LayoutModel",
     "state": {
      "_model_module": "@jupyter-widgets/base",
      "_model_module_version": "1.2.0",
      "_model_name": "LayoutModel",
      "_view_count": null,
      "_view_module": "@jupyter-widgets/base",
      "_view_module_version": "1.2.0",
      "_view_name": "LayoutView",
      "align_content": null,
      "align_items": null,
      "align_self": null,
      "border": null,
      "bottom": null,
      "display": null,
      "flex": null,
      "flex_flow": null,
      "grid_area": null,
      "grid_auto_columns": null,
      "grid_auto_flow": null,
      "grid_auto_rows": null,
      "grid_column": null,
      "grid_gap": null,
      "grid_row": null,
      "grid_template_areas": null,
      "grid_template_columns": null,
      "grid_template_rows": null,
      "height": null,
      "justify_content": null,
      "justify_items": null,
      "left": null,
      "margin": null,
      "max_height": null,
      "max_width": null,
      "min_height": null,
      "min_width": null,
      "object_fit": null,
      "object_position": null,
      "order": null,
      "overflow": null,
      "overflow_x": null,
      "overflow_y": null,
      "padding": null,
      "right": null,
      "top": null,
      "visibility": null,
      "width": null
     }
    },
    "a35a1c4ae1284e068378eb9444f5ecdc": {
     "model_module": "@jupyter-widgets/controls",
     "model_module_version": "1.5.0",
     "model_name": "DescriptionStyleModel",
     "state": {
      "_model_module": "@jupyter-widgets/controls",
      "_model_module_version": "1.5.0",
      "_model_name": "DescriptionStyleModel",
      "_view_count": null,
      "_view_module": "@jupyter-widgets/base",
      "_view_module_version": "1.2.0",
      "_view_name": "StyleView",
      "description_width": ""
     }
    },
    "a95cd368f87b493284458ca7c1484e8f": {
     "model_module": "@jupyter-widgets/controls",
     "model_module_version": "1.5.0",
     "model_name": "ProgressStyleModel",
     "state": {
      "_model_module": "@jupyter-widgets/controls",
      "_model_module_version": "1.5.0",
      "_model_name": "ProgressStyleModel",
      "_view_count": null,
      "_view_module": "@jupyter-widgets/base",
      "_view_module_version": "1.2.0",
      "_view_name": "StyleView",
      "bar_color": null,
      "description_width": ""
     }
    },
    "aefe737fd6944254a30002480b49ecca": {
     "model_module": "@jupyter-widgets/base",
     "model_module_version": "1.2.0",
     "model_name": "LayoutModel",
     "state": {
      "_model_module": "@jupyter-widgets/base",
      "_model_module_version": "1.2.0",
      "_model_name": "LayoutModel",
      "_view_count": null,
      "_view_module": "@jupyter-widgets/base",
      "_view_module_version": "1.2.0",
      "_view_name": "LayoutView",
      "align_content": null,
      "align_items": null,
      "align_self": null,
      "border": null,
      "bottom": null,
      "display": null,
      "flex": null,
      "flex_flow": null,
      "grid_area": null,
      "grid_auto_columns": null,
      "grid_auto_flow": null,
      "grid_auto_rows": null,
      "grid_column": null,
      "grid_gap": null,
      "grid_row": null,
      "grid_template_areas": null,
      "grid_template_columns": null,
      "grid_template_rows": null,
      "height": null,
      "justify_content": null,
      "justify_items": null,
      "left": null,
      "margin": null,
      "max_height": null,
      "max_width": null,
      "min_height": null,
      "min_width": null,
      "object_fit": null,
      "object_position": null,
      "order": null,
      "overflow": null,
      "overflow_x": null,
      "overflow_y": null,
      "padding": null,
      "right": null,
      "top": null,
      "visibility": null,
      "width": null
     }
    },
    "b04fbacc641446aa9c04722ffddd8a6f": {
     "model_module": "@jupyter-widgets/controls",
     "model_module_version": "1.5.0",
     "model_name": "HBoxModel",
     "state": {
      "_dom_classes": [],
      "_model_module": "@jupyter-widgets/controls",
      "_model_module_version": "1.5.0",
      "_model_name": "HBoxModel",
      "_view_count": null,
      "_view_module": "@jupyter-widgets/controls",
      "_view_module_version": "1.5.0",
      "_view_name": "HBoxView",
      "box_style": "",
      "children": [
       "IPY_MODEL_be451036662e40e1b64115d8ef2d5b79",
       "IPY_MODEL_2b85a45d340a4904bad751c3f65ba6bd",
       "IPY_MODEL_c8c31f4461a74441a30717cd0a50cc81"
      ],
      "layout": "IPY_MODEL_8fcc7c84cbcb4efcb8c64b7f7da1558f"
     }
    },
    "b5c9ddea0f1b4edc996dd3213b408edf": {
     "model_module": "@jupyter-widgets/controls",
     "model_module_version": "1.5.0",
     "model_name": "HTMLModel",
     "state": {
      "_dom_classes": [],
      "_model_module": "@jupyter-widgets/controls",
      "_model_module_version": "1.5.0",
      "_model_name": "HTMLModel",
      "_view_count": null,
      "_view_module": "@jupyter-widgets/controls",
      "_view_module_version": "1.5.0",
      "_view_name": "HTMLView",
      "description": "",
      "description_tooltip": null,
      "layout": "IPY_MODEL_cf3bc696434842a294e0b4a9215d919e",
      "placeholder": "​",
      "style": "IPY_MODEL_bc4634e0c47847d18150f3185a790fac",
      "value": " 375/375 [00:03&lt;00:00, 99.96ba/s]"
     }
    },
    "bc4634e0c47847d18150f3185a790fac": {
     "model_module": "@jupyter-widgets/controls",
     "model_module_version": "1.5.0",
     "model_name": "DescriptionStyleModel",
     "state": {
      "_model_module": "@jupyter-widgets/controls",
      "_model_module_version": "1.5.0",
      "_model_name": "DescriptionStyleModel",
      "_view_count": null,
      "_view_module": "@jupyter-widgets/base",
      "_view_module_version": "1.2.0",
      "_view_name": "StyleView",
      "description_width": ""
     }
    },
    "bd106c4653f04f04be119cce9f2088e9": {
     "model_module": "@jupyter-widgets/base",
     "model_module_version": "1.2.0",
     "model_name": "LayoutModel",
     "state": {
      "_model_module": "@jupyter-widgets/base",
      "_model_module_version": "1.2.0",
      "_model_name": "LayoutModel",
      "_view_count": null,
      "_view_module": "@jupyter-widgets/base",
      "_view_module_version": "1.2.0",
      "_view_name": "LayoutView",
      "align_content": null,
      "align_items": null,
      "align_self": null,
      "border": null,
      "bottom": null,
      "display": null,
      "flex": null,
      "flex_flow": null,
      "grid_area": null,
      "grid_auto_columns": null,
      "grid_auto_flow": null,
      "grid_auto_rows": null,
      "grid_column": null,
      "grid_gap": null,
      "grid_row": null,
      "grid_template_areas": null,
      "grid_template_columns": null,
      "grid_template_rows": null,
      "height": null,
      "justify_content": null,
      "justify_items": null,
      "left": null,
      "margin": null,
      "max_height": null,
      "max_width": null,
      "min_height": null,
      "min_width": null,
      "object_fit": null,
      "object_position": null,
      "order": null,
      "overflow": null,
      "overflow_x": null,
      "overflow_y": null,
      "padding": null,
      "right": null,
      "top": null,
      "visibility": null,
      "width": null
     }
    },
    "be451036662e40e1b64115d8ef2d5b79": {
     "model_module": "@jupyter-widgets/controls",
     "model_module_version": "1.5.0",
     "model_name": "HTMLModel",
     "state": {
      "_dom_classes": [],
      "_model_module": "@jupyter-widgets/controls",
      "_model_module_version": "1.5.0",
      "_model_name": "HTMLModel",
      "_view_count": null,
      "_view_module": "@jupyter-widgets/controls",
      "_view_module_version": "1.5.0",
      "_view_name": "HTMLView",
      "description": "",
      "description_tooltip": null,
      "layout": "IPY_MODEL_512609f2453a4867b0c06b8b4cc21483",
      "placeholder": "​",
      "style": "IPY_MODEL_bf4d1ce667fc4fd3ba0421431fec596b",
      "value": "100%"
     }
    },
    "bf4d1ce667fc4fd3ba0421431fec596b": {
     "model_module": "@jupyter-widgets/controls",
     "model_module_version": "1.5.0",
     "model_name": "DescriptionStyleModel",
     "state": {
      "_model_module": "@jupyter-widgets/controls",
      "_model_module_version": "1.5.0",
      "_model_name": "DescriptionStyleModel",
      "_view_count": null,
      "_view_module": "@jupyter-widgets/base",
      "_view_module_version": "1.2.0",
      "_view_name": "StyleView",
      "description_width": ""
     }
    },
    "c1d66527486647bbb6c9c04b0035061c": {
     "model_module": "@jupyter-widgets/base",
     "model_module_version": "1.2.0",
     "model_name": "LayoutModel",
     "state": {
      "_model_module": "@jupyter-widgets/base",
      "_model_module_version": "1.2.0",
      "_model_name": "LayoutModel",
      "_view_count": null,
      "_view_module": "@jupyter-widgets/base",
      "_view_module_version": "1.2.0",
      "_view_name": "LayoutView",
      "align_content": null,
      "align_items": null,
      "align_self": null,
      "border": null,
      "bottom": null,
      "display": null,
      "flex": null,
      "flex_flow": null,
      "grid_area": null,
      "grid_auto_columns": null,
      "grid_auto_flow": null,
      "grid_auto_rows": null,
      "grid_column": null,
      "grid_gap": null,
      "grid_row": null,
      "grid_template_areas": null,
      "grid_template_columns": null,
      "grid_template_rows": null,
      "height": null,
      "justify_content": null,
      "justify_items": null,
      "left": null,
      "margin": null,
      "max_height": null,
      "max_width": null,
      "min_height": null,
      "min_width": null,
      "object_fit": null,
      "object_position": null,
      "order": null,
      "overflow": null,
      "overflow_x": null,
      "overflow_y": null,
      "padding": null,
      "right": null,
      "top": null,
      "visibility": null,
      "width": "20px"
     }
    },
    "c3987b61312d4bca9b963beb49cf3c93": {
     "model_module": "@jupyter-widgets/controls",
     "model_module_version": "1.5.0",
     "model_name": "HTMLModel",
     "state": {
      "_dom_classes": [],
      "_model_module": "@jupyter-widgets/controls",
      "_model_module_version": "1.5.0",
      "_model_name": "HTMLModel",
      "_view_count": null,
      "_view_module": "@jupyter-widgets/controls",
      "_view_module_version": "1.5.0",
      "_view_name": "HTMLView",
      "description": "",
      "description_tooltip": null,
      "layout": "IPY_MODEL_bd106c4653f04f04be119cce9f2088e9",
      "placeholder": "​",
      "style": "IPY_MODEL_a35a1c4ae1284e068378eb9444f5ecdc",
      "value": " 0/0 [00:00&lt;?, ?it/s]"
     }
    },
    "c65746ae02d848c0b37662be6b1871d9": {
     "model_module": "@jupyter-widgets/controls",
     "model_module_version": "1.5.0",
     "model_name": "HBoxModel",
     "state": {
      "_dom_classes": [],
      "_model_module": "@jupyter-widgets/controls",
      "_model_module_version": "1.5.0",
      "_model_name": "HBoxModel",
      "_view_count": null,
      "_view_module": "@jupyter-widgets/controls",
      "_view_module_version": "1.5.0",
      "_view_name": "HBoxView",
      "box_style": "",
      "children": [
       "IPY_MODEL_0ae0864d6bef4e03b5217b80eb3d5f7c",
       "IPY_MODEL_62c3b5be6feb43ba94ed2d0d37691a71",
       "IPY_MODEL_b5c9ddea0f1b4edc996dd3213b408edf"
      ],
      "layout": "IPY_MODEL_da11d86a65754489af5959b40ed32851"
     }
    },
    "c8c31f4461a74441a30717cd0a50cc81": {
     "model_module": "@jupyter-widgets/controls",
     "model_module_version": "1.5.0",
     "model_name": "HTMLModel",
     "state": {
      "_dom_classes": [],
      "_model_module": "@jupyter-widgets/controls",
      "_model_module_version": "1.5.0",
      "_model_name": "HTMLModel",
      "_view_count": null,
      "_view_module": "@jupyter-widgets/controls",
      "_view_module_version": "1.5.0",
      "_view_name": "HTMLView",
      "description": "",
      "description_tooltip": null,
      "layout": "IPY_MODEL_228d7fcbc33d4885babeefd8a4928827",
      "placeholder": "​",
      "style": "IPY_MODEL_88d44ab24fd04c6da1e0e8bcc5345f09",
      "value": " 875/875 [00:09&lt;00:00, 100.37ba/s]"
     }
    },
    "cf3bc696434842a294e0b4a9215d919e": {
     "model_module": "@jupyter-widgets/base",
     "model_module_version": "1.2.0",
     "model_name": "LayoutModel",
     "state": {
      "_model_module": "@jupyter-widgets/base",
      "_model_module_version": "1.2.0",
      "_model_name": "LayoutModel",
      "_view_count": null,
      "_view_module": "@jupyter-widgets/base",
      "_view_module_version": "1.2.0",
      "_view_name": "LayoutView",
      "align_content": null,
      "align_items": null,
      "align_self": null,
      "border": null,
      "bottom": null,
      "display": null,
      "flex": null,
      "flex_flow": null,
      "grid_area": null,
      "grid_auto_columns": null,
      "grid_auto_flow": null,
      "grid_auto_rows": null,
      "grid_column": null,
      "grid_gap": null,
      "grid_row": null,
      "grid_template_areas": null,
      "grid_template_columns": null,
      "grid_template_rows": null,
      "height": null,
      "justify_content": null,
      "justify_items": null,
      "left": null,
      "margin": null,
      "max_height": null,
      "max_width": null,
      "min_height": null,
      "min_width": null,
      "object_fit": null,
      "object_position": null,
      "order": null,
      "overflow": null,
      "overflow_x": null,
      "overflow_y": null,
      "padding": null,
      "right": null,
      "top": null,
      "visibility": null,
      "width": null
     }
    },
    "da11d86a65754489af5959b40ed32851": {
     "model_module": "@jupyter-widgets/base",
     "model_module_version": "1.2.0",
     "model_name": "LayoutModel",
     "state": {
      "_model_module": "@jupyter-widgets/base",
      "_model_module_version": "1.2.0",
      "_model_name": "LayoutModel",
      "_view_count": null,
      "_view_module": "@jupyter-widgets/base",
      "_view_module_version": "1.2.0",
      "_view_name": "LayoutView",
      "align_content": null,
      "align_items": null,
      "align_self": null,
      "border": null,
      "bottom": null,
      "display": null,
      "flex": null,
      "flex_flow": null,
      "grid_area": null,
      "grid_auto_columns": null,
      "grid_auto_flow": null,
      "grid_auto_rows": null,
      "grid_column": null,
      "grid_gap": null,
      "grid_row": null,
      "grid_template_areas": null,
      "grid_template_columns": null,
      "grid_template_rows": null,
      "height": null,
      "justify_content": null,
      "justify_items": null,
      "left": null,
      "margin": null,
      "max_height": null,
      "max_width": null,
      "min_height": null,
      "min_width": null,
      "object_fit": null,
      "object_position": null,
      "order": null,
      "overflow": null,
      "overflow_x": null,
      "overflow_y": null,
      "padding": null,
      "right": null,
      "top": null,
      "visibility": null,
      "width": null
     }
    },
    "e3c9e60cca9d4ea29d92c01237cfc49b": {
     "model_module": "@jupyter-widgets/base",
     "model_module_version": "1.2.0",
     "model_name": "LayoutModel",
     "state": {
      "_model_module": "@jupyter-widgets/base",
      "_model_module_version": "1.2.0",
      "_model_name": "LayoutModel",
      "_view_count": null,
      "_view_module": "@jupyter-widgets/base",
      "_view_module_version": "1.2.0",
      "_view_name": "LayoutView",
      "align_content": null,
      "align_items": null,
      "align_self": null,
      "border": null,
      "bottom": null,
      "display": null,
      "flex": null,
      "flex_flow": null,
      "grid_area": null,
      "grid_auto_columns": null,
      "grid_auto_flow": null,
      "grid_auto_rows": null,
      "grid_column": null,
      "grid_gap": null,
      "grid_row": null,
      "grid_template_areas": null,
      "grid_template_columns": null,
      "grid_template_rows": null,
      "height": null,
      "justify_content": null,
      "justify_items": null,
      "left": null,
      "margin": null,
      "max_height": null,
      "max_width": null,
      "min_height": null,
      "min_width": null,
      "object_fit": null,
      "object_position": null,
      "order": null,
      "overflow": null,
      "overflow_x": null,
      "overflow_y": null,
      "padding": null,
      "right": null,
      "top": null,
      "visibility": null,
      "width": null
     }
    },
    "e9d3b5b428d84fefbb1a364deca9c80a": {
     "model_module": "@jupyter-widgets/base",
     "model_module_version": "1.2.0",
     "model_name": "LayoutModel",
     "state": {
      "_model_module": "@jupyter-widgets/base",
      "_model_module_version": "1.2.0",
      "_model_name": "LayoutModel",
      "_view_count": null,
      "_view_module": "@jupyter-widgets/base",
      "_view_module_version": "1.2.0",
      "_view_name": "LayoutView",
      "align_content": null,
      "align_items": null,
      "align_self": null,
      "border": null,
      "bottom": null,
      "display": null,
      "flex": null,
      "flex_flow": null,
      "grid_area": null,
      "grid_auto_columns": null,
      "grid_auto_flow": null,
      "grid_auto_rows": null,
      "grid_column": null,
      "grid_gap": null,
      "grid_row": null,
      "grid_template_areas": null,
      "grid_template_columns": null,
      "grid_template_rows": null,
      "height": null,
      "justify_content": null,
      "justify_items": null,
      "left": null,
      "margin": null,
      "max_height": null,
      "max_width": null,
      "min_height": null,
      "min_width": null,
      "object_fit": null,
      "object_position": null,
      "order": null,
      "overflow": null,
      "overflow_x": null,
      "overflow_y": null,
      "padding": null,
      "right": null,
      "top": null,
      "visibility": null,
      "width": null
     }
    }
   }
  }
 },
 "nbformat": 4,
 "nbformat_minor": 1
}
